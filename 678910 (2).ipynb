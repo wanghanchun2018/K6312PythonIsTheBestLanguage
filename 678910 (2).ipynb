{
 "cells": [
  {
   "cell_type": "code",
   "execution_count": 1,
   "metadata": {},
   "outputs": [],
   "source": [
    "import pandas as pd\n",
    "import numpy as np\n",
    "import matplotlib.pyplot as plt\n",
    "import seaborn as sns"
   ]
  },
  {
   "cell_type": "code",
   "execution_count": 2,
   "metadata": {},
   "outputs": [
    {
     "data": {
      "text/html": [
       "<div>\n",
       "<style scoped>\n",
       "    .dataframe tbody tr th:only-of-type {\n",
       "        vertical-align: middle;\n",
       "    }\n",
       "\n",
       "    .dataframe tbody tr th {\n",
       "        vertical-align: top;\n",
       "    }\n",
       "\n",
       "    .dataframe thead th {\n",
       "        text-align: right;\n",
       "    }\n",
       "</style>\n",
       "<table border=\"1\" class=\"dataframe\">\n",
       "  <thead>\n",
       "    <tr style=\"text-align: right;\">\n",
       "      <th></th>\n",
       "      <th>Unnamed: 0</th>\n",
       "      <th>video_id</th>\n",
       "      <th>trending_date</th>\n",
       "      <th>title</th>\n",
       "      <th>channel_title</th>\n",
       "      <th>category_id</th>\n",
       "      <th>category</th>\n",
       "      <th>publish_time</th>\n",
       "      <th>tags</th>\n",
       "      <th>views</th>\n",
       "      <th>likes</th>\n",
       "      <th>dislikes</th>\n",
       "      <th>comment_count</th>\n",
       "      <th>description</th>\n",
       "      <th>region</th>\n",
       "    </tr>\n",
       "  </thead>\n",
       "  <tbody>\n",
       "    <tr>\n",
       "      <th>0</th>\n",
       "      <td>0</td>\n",
       "      <td>n1WpP7iowLc</td>\n",
       "      <td>2017-11-14 00:00:00</td>\n",
       "      <td>Eminem - Walk On Water (Audio) ft. Beyoncé</td>\n",
       "      <td>EminemVEVO</td>\n",
       "      <td>10</td>\n",
       "      <td>Music</td>\n",
       "      <td>2017-11-10 17:00:03</td>\n",
       "      <td>Eminem|\"Walk\"|\"On\"|\"Water\"|\"Aftermath/Shady/In...</td>\n",
       "      <td>17158579</td>\n",
       "      <td>787425</td>\n",
       "      <td>43420</td>\n",
       "      <td>125882</td>\n",
       "      <td>Eminem's new track Walk on Water ft. Beyoncé i...</td>\n",
       "      <td>CA</td>\n",
       "    </tr>\n",
       "    <tr>\n",
       "      <th>1</th>\n",
       "      <td>1</td>\n",
       "      <td>0dBIkQ4Mz1M</td>\n",
       "      <td>2017-11-14 00:00:00</td>\n",
       "      <td>PLUSH - Bad Unboxing Fan Mail</td>\n",
       "      <td>iDubbbzTV</td>\n",
       "      <td>23</td>\n",
       "      <td>Comedy</td>\n",
       "      <td>2017-11-13 17:00:00</td>\n",
       "      <td>plush|\"bad unboxing\"|\"unboxing\"|\"fan mail\"|\"id...</td>\n",
       "      <td>1014651</td>\n",
       "      <td>127794</td>\n",
       "      <td>1688</td>\n",
       "      <td>13030</td>\n",
       "      <td>STill got a lot of packages. Probably will las...</td>\n",
       "      <td>CA</td>\n",
       "    </tr>\n",
       "    <tr>\n",
       "      <th>2</th>\n",
       "      <td>2</td>\n",
       "      <td>5qpjK5DgCt4</td>\n",
       "      <td>2017-11-14 00:00:00</td>\n",
       "      <td>Racist Superman | Rudy Mancuso, King Bach &amp; Le...</td>\n",
       "      <td>Rudy Mancuso</td>\n",
       "      <td>23</td>\n",
       "      <td>Comedy</td>\n",
       "      <td>2017-11-12 19:05:24</td>\n",
       "      <td>racist superman|\"rudy\"|\"mancuso\"|\"king\"|\"bach\"...</td>\n",
       "      <td>3191434</td>\n",
       "      <td>146035</td>\n",
       "      <td>5339</td>\n",
       "      <td>8181</td>\n",
       "      <td>WATCH MY PREVIOUS VIDEO ▶ \\n\\nSUBSCRIBE ► http...</td>\n",
       "      <td>CA</td>\n",
       "    </tr>\n",
       "    <tr>\n",
       "      <th>3</th>\n",
       "      <td>3</td>\n",
       "      <td>d380meD0W0M</td>\n",
       "      <td>2017-11-14 00:00:00</td>\n",
       "      <td>I Dare You: GOING BALD!?</td>\n",
       "      <td>nigahiga</td>\n",
       "      <td>24</td>\n",
       "      <td>Entertainment</td>\n",
       "      <td>2017-11-12 18:01:41</td>\n",
       "      <td>ryan|\"higa\"|\"higatv\"|\"nigahiga\"|\"i dare you\"|\"...</td>\n",
       "      <td>2095828</td>\n",
       "      <td>132239</td>\n",
       "      <td>1989</td>\n",
       "      <td>17518</td>\n",
       "      <td>I know it's been a while since we did this sho...</td>\n",
       "      <td>CA</td>\n",
       "    </tr>\n",
       "    <tr>\n",
       "      <th>4</th>\n",
       "      <td>4</td>\n",
       "      <td>2Vv-BfVoq4g</td>\n",
       "      <td>2017-11-14 00:00:00</td>\n",
       "      <td>Ed Sheeran - Perfect (Official Music Video)</td>\n",
       "      <td>Ed Sheeran</td>\n",
       "      <td>10</td>\n",
       "      <td>Music</td>\n",
       "      <td>2017-11-09 11:04:14</td>\n",
       "      <td>edsheeran|\"ed sheeran\"|\"acoustic\"|\"live\"|\"cove...</td>\n",
       "      <td>33523622</td>\n",
       "      <td>1634130</td>\n",
       "      <td>21082</td>\n",
       "      <td>85067</td>\n",
       "      <td>🎧: https://ad.gt/yt-perfect\\n💰: https://atlant...</td>\n",
       "      <td>CA</td>\n",
       "    </tr>\n",
       "    <tr>\n",
       "      <th>...</th>\n",
       "      <td>...</td>\n",
       "      <td>...</td>\n",
       "      <td>...</td>\n",
       "      <td>...</td>\n",
       "      <td>...</td>\n",
       "      <td>...</td>\n",
       "      <td>...</td>\n",
       "      <td>...</td>\n",
       "      <td>...</td>\n",
       "      <td>...</td>\n",
       "      <td>...</td>\n",
       "      <td>...</td>\n",
       "      <td>...</td>\n",
       "      <td>...</td>\n",
       "      <td>...</td>\n",
       "    </tr>\n",
       "    <tr>\n",
       "      <th>95</th>\n",
       "      <td>95</td>\n",
       "      <td>zxuvr9tN924</td>\n",
       "      <td>2017-11-14 00:00:00</td>\n",
       "      <td>非诚勿扰 完整版 “小朱亚文”亮相《非诚勿扰》 孟非上演cosplay首秀 171111</td>\n",
       "      <td>江苏卫视官方频道China JiangsuTV Official Channel</td>\n",
       "      <td>24</td>\n",
       "      <td>Entertainment</td>\n",
       "      <td>2017-11-11 16:00:04</td>\n",
       "      <td>江苏卫视|\"非诚勿扰\"|\"姜振宇\"|\"孟非\"|\"黄澜\"|\"黄菡\"|\"黄磊\"|\"相亲\"|\"交友...</td>\n",
       "      <td>150974</td>\n",
       "      <td>220</td>\n",
       "      <td>65</td>\n",
       "      <td>201</td>\n",
       "      <td>关注【微信公众号】最新独家内容抢先看！\\n江苏卫视官方微信“JSBC-JSTV”\\n非诚勿扰...</td>\n",
       "      <td>CA</td>\n",
       "    </tr>\n",
       "    <tr>\n",
       "      <th>96</th>\n",
       "      <td>96</td>\n",
       "      <td>dKBThyjj0J0</td>\n",
       "      <td>2017-11-14 00:00:00</td>\n",
       "      <td>'Helping People' Sneak Peek Ep. 805 | The Walk...</td>\n",
       "      <td>amc</td>\n",
       "      <td>24</td>\n",
       "      <td>Entertainment</td>\n",
       "      <td>2017-11-13 03:00:01</td>\n",
       "      <td>The Walking Dead|\"episode 805\"|\"episode 5\"|\"Th...</td>\n",
       "      <td>70448</td>\n",
       "      <td>1538</td>\n",
       "      <td>25</td>\n",
       "      <td>315</td>\n",
       "      <td>Negan and Father Gabriel remain trapped togeth...</td>\n",
       "      <td>CA</td>\n",
       "    </tr>\n",
       "    <tr>\n",
       "      <th>97</th>\n",
       "      <td>97</td>\n",
       "      <td>pQgPR2V6924</td>\n",
       "      <td>2017-11-14 00:00:00</td>\n",
       "      <td>《文茜世界周報》美媒狂酸川普　對華貿易選前選後判若兩人2017.11.11|Sisy's W...</td>\n",
       "      <td>文茜的世界周報 Sisy's World News</td>\n",
       "      <td>25</td>\n",
       "      <td>News &amp; Politics</td>\n",
       "      <td>2017-11-12 07:09:51</td>\n",
       "      <td>陳文茜|\"文茜世界周報\"|\"文茜世界財經週報\"|\"中天的夢想驛站\"|\"Courier Sta...</td>\n",
       "      <td>135620</td>\n",
       "      <td>379</td>\n",
       "      <td>86</td>\n",
       "      <td>449</td>\n",
       "      <td>《中天的夢想驛站》更多影音→https://goo.gl/BbhRZJ\\n《文茜的世界週報》...</td>\n",
       "      <td>CA</td>\n",
       "    </tr>\n",
       "    <tr>\n",
       "      <th>98</th>\n",
       "      <td>98</td>\n",
       "      <td>lHcXhBojpeQ</td>\n",
       "      <td>2017-11-14 00:00:00</td>\n",
       "      <td>三屆TVB視帝，拋棄10年青梅竹馬髮妻，為娶小三還不惜與母絕交！</td>\n",
       "      <td>明星百曉生</td>\n",
       "      <td>22</td>\n",
       "      <td>People &amp; Blogs</td>\n",
       "      <td>2017-11-12 12:49:50</td>\n",
       "      <td>[none]</td>\n",
       "      <td>88061</td>\n",
       "      <td>47</td>\n",
       "      <td>58</td>\n",
       "      <td>17</td>\n",
       "      <td>NaN</td>\n",
       "      <td>CA</td>\n",
       "    </tr>\n",
       "    <tr>\n",
       "      <th>99</th>\n",
       "      <td>99</td>\n",
       "      <td>Yo84eqYwP98</td>\n",
       "      <td>2017-11-14 00:00:00</td>\n",
       "      <td>LA PIRE PARTIE ft Le Rire Jaune, Pierre Croce,...</td>\n",
       "      <td>Le Labo</td>\n",
       "      <td>24</td>\n",
       "      <td>Entertainment</td>\n",
       "      <td>2017-11-12 15:00:02</td>\n",
       "      <td>[none]</td>\n",
       "      <td>432721</td>\n",
       "      <td>14053</td>\n",
       "      <td>576</td>\n",
       "      <td>1161</td>\n",
       "      <td>Le jeu de société: https://goo.gl/hhG1Ta\\n\\nGa...</td>\n",
       "      <td>CA</td>\n",
       "    </tr>\n",
       "  </tbody>\n",
       "</table>\n",
       "<p>100 rows × 15 columns</p>\n",
       "</div>"
      ],
      "text/plain": [
       "    Unnamed: 0     video_id        trending_date  \\\n",
       "0            0  n1WpP7iowLc  2017-11-14 00:00:00   \n",
       "1            1  0dBIkQ4Mz1M  2017-11-14 00:00:00   \n",
       "2            2  5qpjK5DgCt4  2017-11-14 00:00:00   \n",
       "3            3  d380meD0W0M  2017-11-14 00:00:00   \n",
       "4            4  2Vv-BfVoq4g  2017-11-14 00:00:00   \n",
       "..         ...          ...                  ...   \n",
       "95          95  zxuvr9tN924  2017-11-14 00:00:00   \n",
       "96          96  dKBThyjj0J0  2017-11-14 00:00:00   \n",
       "97          97  pQgPR2V6924  2017-11-14 00:00:00   \n",
       "98          98  lHcXhBojpeQ  2017-11-14 00:00:00   \n",
       "99          99  Yo84eqYwP98  2017-11-14 00:00:00   \n",
       "\n",
       "                                                title  \\\n",
       "0          Eminem - Walk On Water (Audio) ft. Beyoncé   \n",
       "1                       PLUSH - Bad Unboxing Fan Mail   \n",
       "2   Racist Superman | Rudy Mancuso, King Bach & Le...   \n",
       "3                            I Dare You: GOING BALD!?   \n",
       "4         Ed Sheeran - Perfect (Official Music Video)   \n",
       "..                                                ...   \n",
       "95       非诚勿扰 完整版 “小朱亚文”亮相《非诚勿扰》 孟非上演cosplay首秀 171111   \n",
       "96  'Helping People' Sneak Peek Ep. 805 | The Walk...   \n",
       "97  《文茜世界周報》美媒狂酸川普　對華貿易選前選後判若兩人2017.11.11|Sisy's W...   \n",
       "98                   三屆TVB視帝，拋棄10年青梅竹馬髮妻，為娶小三還不惜與母絕交！   \n",
       "99  LA PIRE PARTIE ft Le Rire Jaune, Pierre Croce,...   \n",
       "\n",
       "                               channel_title  category_id         category  \\\n",
       "0                                 EminemVEVO           10            Music   \n",
       "1                                  iDubbbzTV           23           Comedy   \n",
       "2                               Rudy Mancuso           23           Comedy   \n",
       "3                                   nigahiga           24    Entertainment   \n",
       "4                                 Ed Sheeran           10            Music   \n",
       "..                                       ...          ...              ...   \n",
       "95  江苏卫视官方频道China JiangsuTV Official Channel           24    Entertainment   \n",
       "96                                       amc           24    Entertainment   \n",
       "97                 文茜的世界周報 Sisy's World News           25  News & Politics   \n",
       "98                                     明星百曉生           22   People & Blogs   \n",
       "99                                   Le Labo           24    Entertainment   \n",
       "\n",
       "           publish_time                                               tags  \\\n",
       "0   2017-11-10 17:00:03  Eminem|\"Walk\"|\"On\"|\"Water\"|\"Aftermath/Shady/In...   \n",
       "1   2017-11-13 17:00:00  plush|\"bad unboxing\"|\"unboxing\"|\"fan mail\"|\"id...   \n",
       "2   2017-11-12 19:05:24  racist superman|\"rudy\"|\"mancuso\"|\"king\"|\"bach\"...   \n",
       "3   2017-11-12 18:01:41  ryan|\"higa\"|\"higatv\"|\"nigahiga\"|\"i dare you\"|\"...   \n",
       "4   2017-11-09 11:04:14  edsheeran|\"ed sheeran\"|\"acoustic\"|\"live\"|\"cove...   \n",
       "..                  ...                                                ...   \n",
       "95  2017-11-11 16:00:04  江苏卫视|\"非诚勿扰\"|\"姜振宇\"|\"孟非\"|\"黄澜\"|\"黄菡\"|\"黄磊\"|\"相亲\"|\"交友...   \n",
       "96  2017-11-13 03:00:01  The Walking Dead|\"episode 805\"|\"episode 5\"|\"Th...   \n",
       "97  2017-11-12 07:09:51  陳文茜|\"文茜世界周報\"|\"文茜世界財經週報\"|\"中天的夢想驛站\"|\"Courier Sta...   \n",
       "98  2017-11-12 12:49:50                                             [none]   \n",
       "99  2017-11-12 15:00:02                                             [none]   \n",
       "\n",
       "       views    likes  dislikes  comment_count  \\\n",
       "0   17158579   787425     43420         125882   \n",
       "1    1014651   127794      1688          13030   \n",
       "2    3191434   146035      5339           8181   \n",
       "3    2095828   132239      1989          17518   \n",
       "4   33523622  1634130     21082          85067   \n",
       "..       ...      ...       ...            ...   \n",
       "95    150974      220        65            201   \n",
       "96     70448     1538        25            315   \n",
       "97    135620      379        86            449   \n",
       "98     88061       47        58             17   \n",
       "99    432721    14053       576           1161   \n",
       "\n",
       "                                          description region  \n",
       "0   Eminem's new track Walk on Water ft. Beyoncé i...     CA  \n",
       "1   STill got a lot of packages. Probably will las...     CA  \n",
       "2   WATCH MY PREVIOUS VIDEO ▶ \\n\\nSUBSCRIBE ► http...     CA  \n",
       "3   I know it's been a while since we did this sho...     CA  \n",
       "4   🎧: https://ad.gt/yt-perfect\\n💰: https://atlant...     CA  \n",
       "..                                                ...    ...  \n",
       "95  关注【微信公众号】最新独家内容抢先看！\\n江苏卫视官方微信“JSBC-JSTV”\\n非诚勿扰...     CA  \n",
       "96  Negan and Father Gabriel remain trapped togeth...     CA  \n",
       "97  《中天的夢想驛站》更多影音→https://goo.gl/BbhRZJ\\n《文茜的世界週報》...     CA  \n",
       "98                                                NaN     CA  \n",
       "99  Le jeu de société: https://goo.gl/hhG1Ta\\n\\nGa...     CA  \n",
       "\n",
       "[100 rows x 15 columns]"
      ]
     },
     "execution_count": 2,
     "metadata": {},
     "output_type": "execute_result"
    }
   ],
   "source": [
    "data = pd.read_csv(\"FinalData.csv\")\n",
    "data.head(100)"
   ]
  },
  {
   "cell_type": "code",
   "execution_count": 3,
   "metadata": {},
   "outputs": [
    {
     "data": {
      "text/plain": [
       "Entertainment            49251\n",
       "Music                    27815\n",
       "News & Politics          13112\n",
       "People & Blogs           12865\n",
       "Comedy                   12487\n",
       "Howto & Style             8926\n",
       "Film & Animation          8640\n",
       "Sports                    7599\n",
       "Science & Technology      4626\n",
       "Education                 4331\n",
       "Gaming                    4015\n",
       "Pets & Animals            1826\n",
       "Autos & Vehicles           953\n",
       "Travel & Events            898\n",
       "Shows                      406\n",
       "Nonprofits & Activism       57\n",
       "Movies                      22\n",
       "Name: category, dtype: int64"
      ]
     },
     "execution_count": 3,
     "metadata": {},
     "output_type": "execute_result"
    }
   ],
   "source": [
    "category_count = data['category'].value_counts()\n",
    "category_count"
   ]
  },
  {
   "cell_type": "code",
   "execution_count": 4,
   "metadata": {},
   "outputs": [
    {
     "data": {
      "text/plain": [
       "(array([ 0,  1,  2,  3,  4,  5,  6,  7,  8,  9, 10, 11, 12, 13, 14, 15, 16]),\n",
       " [Text(0, 0, 'Music'),\n",
       "  Text(1, 0, 'Comedy'),\n",
       "  Text(2, 0, 'Entertainment'),\n",
       "  Text(3, 0, 'News & Politics'),\n",
       "  Text(4, 0, 'People & Blogs'),\n",
       "  Text(5, 0, 'Howto & Style'),\n",
       "  Text(6, 0, 'Film & Animation'),\n",
       "  Text(7, 0, 'Science & Technology'),\n",
       "  Text(8, 0, 'Gaming'),\n",
       "  Text(9, 0, 'Sports'),\n",
       "  Text(10, 0, 'Pets & Animals'),\n",
       "  Text(11, 0, 'Travel & Events'),\n",
       "  Text(12, 0, 'Autos & Vehicles'),\n",
       "  Text(13, 0, 'Education'),\n",
       "  Text(14, 0, 'Shows'),\n",
       "  Text(15, 0, 'Movies'),\n",
       "  Text(16, 0, 'Nonprofits & Activism')])"
      ]
     },
     "execution_count": 4,
     "metadata": {},
     "output_type": "execute_result"
    },
    {
     "data": {
      "image/png": "[encoded data removed]",
      "text/plain": [
       "<Figure size 432x288 with 1 Axes>"
      ]
     },
     "metadata": {
      "needs_background": "light"
     },
     "output_type": "display_data"
    }
   ],
   "source": [
    "sns.countplot(x = data['category'])\n",
    "plt.xticks(rotation=90)"
   ]
  },
  {
   "cell_type": "code",
   "execution_count": 5,
   "metadata": {},
   "outputs": [],
   "source": [
    "average_views= pd.pivot_table(data = data,index = 'category',values='views',aggfunc=np.mean).sort_values('views',ascending=False)"
   ]
  },
  {
   "cell_type": "code",
   "execution_count": 6,
   "metadata": {},
   "outputs": [
    {
     "data": {
      "text/html": [
       "<div>\n",
       "<style scoped>\n",
       "    .dataframe tbody tr th:only-of-type {\n",
       "        vertical-align: middle;\n",
       "    }\n",
       "\n",
       "    .dataframe tbody tr th {\n",
       "        vertical-align: top;\n",
       "    }\n",
       "\n",
       "    .dataframe thead th {\n",
       "        text-align: right;\n",
       "    }\n",
       "</style>\n",
       "<table border=\"1\" class=\"dataframe\">\n",
       "  <thead>\n",
       "    <tr style=\"text-align: right;\">\n",
       "      <th></th>\n",
       "      <th>views</th>\n",
       "    </tr>\n",
       "    <tr>\n",
       "      <th>category</th>\n",
       "      <th></th>\n",
       "    </tr>\n",
       "  </thead>\n",
       "  <tbody>\n",
       "    <tr>\n",
       "      <th>Music</th>\n",
       "      <td>8.435177e+06</td>\n",
       "    </tr>\n",
       "    <tr>\n",
       "      <th>Movies</th>\n",
       "      <td>3.007296e+06</td>\n",
       "    </tr>\n",
       "    <tr>\n",
       "      <th>Nonprofits &amp; Activism</th>\n",
       "      <td>2.963884e+06</td>\n",
       "    </tr>\n",
       "    <tr>\n",
       "      <th>Film &amp; Animation</th>\n",
       "      <td>2.596421e+06</td>\n",
       "    </tr>\n",
       "    <tr>\n",
       "      <th>Entertainment</th>\n",
       "      <td>1.628033e+06</td>\n",
       "    </tr>\n",
       "    <tr>\n",
       "      <th>Sports</th>\n",
       "      <td>1.595446e+06</td>\n",
       "    </tr>\n",
       "    <tr>\n",
       "      <th>Science &amp; Technology</th>\n",
       "      <td>1.519962e+06</td>\n",
       "    </tr>\n",
       "    <tr>\n",
       "      <th>Gaming</th>\n",
       "      <td>1.345976e+06</td>\n",
       "    </tr>\n",
       "    <tr>\n",
       "      <th>Comedy</th>\n",
       "      <td>1.255354e+06</td>\n",
       "    </tr>\n",
       "    <tr>\n",
       "      <th>People &amp; Blogs</th>\n",
       "      <td>1.186460e+06</td>\n",
       "    </tr>\n",
       "    <tr>\n",
       "      <th>Autos &amp; Vehicles</th>\n",
       "      <td>1.012934e+06</td>\n",
       "    </tr>\n",
       "    <tr>\n",
       "      <th>Howto &amp; Style</th>\n",
       "      <td>8.488562e+05</td>\n",
       "    </tr>\n",
       "    <tr>\n",
       "      <th>Pets &amp; Animals</th>\n",
       "      <td>8.469028e+05</td>\n",
       "    </tr>\n",
       "    <tr>\n",
       "      <th>Shows</th>\n",
       "      <td>7.172801e+05</td>\n",
       "    </tr>\n",
       "    <tr>\n",
       "      <th>Travel &amp; Events</th>\n",
       "      <td>6.920528e+05</td>\n",
       "    </tr>\n",
       "    <tr>\n",
       "      <th>Education</th>\n",
       "      <td>5.315695e+05</td>\n",
       "    </tr>\n",
       "    <tr>\n",
       "      <th>News &amp; Politics</th>\n",
       "      <td>4.951015e+05</td>\n",
       "    </tr>\n",
       "  </tbody>\n",
       "</table>\n",
       "</div>"
      ],
      "text/plain": [
       "                              views\n",
       "category                           \n",
       "Music                  8.435177e+06\n",
       "Movies                 3.007296e+06\n",
       "Nonprofits & Activism  2.963884e+06\n",
       "Film & Animation       2.596421e+06\n",
       "Entertainment          1.628033e+06\n",
       "Sports                 1.595446e+06\n",
       "Science & Technology   1.519962e+06\n",
       "Gaming                 1.345976e+06\n",
       "Comedy                 1.255354e+06\n",
       "People & Blogs         1.186460e+06\n",
       "Autos & Vehicles       1.012934e+06\n",
       "Howto & Style          8.488562e+05\n",
       "Pets & Animals         8.469028e+05\n",
       "Shows                  7.172801e+05\n",
       "Travel & Events        6.920528e+05\n",
       "Education              5.315695e+05\n",
       "News & Politics        4.951015e+05"
      ]
     },
     "execution_count": 6,
     "metadata": {},
     "output_type": "execute_result"
    }
   ],
   "source": [
    "average_views"
   ]
  },
  {
   "cell_type": "code",
   "execution_count": 7,
   "metadata": {},
   "outputs": [
    {
     "data": {
      "image/png": "[encoded data removed]",
      "text/plain": [
       "<Figure size 432x288 with 1 Axes>"
      ]
     },
     "metadata": {
      "needs_background": "light"
     },
     "output_type": "display_data"
    }
   ],
   "source": [
    "ax = average_views.plot(kind=\"bar\")\n",
    "ax.set_xlabel(\"Categories\")\n",
    "ax.set_ylabel(\"Views\")\n",
    "plt.show()"
   ]
  },
  {
   "cell_type": "code",
   "execution_count": 8,
   "metadata": {},
   "outputs": [],
   "source": [
    "most_views = pd.pivot_table(data = data,index = 'category',values='views',aggfunc=np.sum).sort_values('views',ascending=False)"
   ]
  },
  {
   "cell_type": "code",
   "execution_count": 9,
   "metadata": {},
   "outputs": [
    {
     "data": {
      "text/html": [
       "<div>\n",
       "<style scoped>\n",
       "    .dataframe tbody tr th:only-of-type {\n",
       "        vertical-align: middle;\n",
       "    }\n",
       "\n",
       "    .dataframe tbody tr th {\n",
       "        vertical-align: top;\n",
       "    }\n",
       "\n",
       "    .dataframe thead th {\n",
       "        text-align: right;\n",
       "    }\n",
       "</style>\n",
       "<table border=\"1\" class=\"dataframe\">\n",
       "  <thead>\n",
       "    <tr style=\"text-align: right;\">\n",
       "      <th></th>\n",
       "      <th>views</th>\n",
       "    </tr>\n",
       "    <tr>\n",
       "      <th>category</th>\n",
       "      <th></th>\n",
       "    </tr>\n",
       "  </thead>\n",
       "  <tbody>\n",
       "    <tr>\n",
       "      <th>Music</th>\n",
       "      <td>234624451638</td>\n",
       "    </tr>\n",
       "    <tr>\n",
       "      <th>Entertainment</th>\n",
       "      <td>80182277719</td>\n",
       "    </tr>\n",
       "    <tr>\n",
       "      <th>Film &amp; Animation</th>\n",
       "      <td>22433074695</td>\n",
       "    </tr>\n",
       "    <tr>\n",
       "      <th>Comedy</th>\n",
       "      <td>15675599206</td>\n",
       "    </tr>\n",
       "    <tr>\n",
       "      <th>People &amp; Blogs</th>\n",
       "      <td>15263811723</td>\n",
       "    </tr>\n",
       "    <tr>\n",
       "      <th>Sports</th>\n",
       "      <td>12123794214</td>\n",
       "    </tr>\n",
       "    <tr>\n",
       "      <th>Howto &amp; Style</th>\n",
       "      <td>7576890495</td>\n",
       "    </tr>\n",
       "    <tr>\n",
       "      <th>Science &amp; Technology</th>\n",
       "      <td>7031346509</td>\n",
       "    </tr>\n",
       "    <tr>\n",
       "      <th>News &amp; Politics</th>\n",
       "      <td>6491770934</td>\n",
       "    </tr>\n",
       "    <tr>\n",
       "      <th>Gaming</th>\n",
       "      <td>5404093048</td>\n",
       "    </tr>\n",
       "    <tr>\n",
       "      <th>Education</th>\n",
       "      <td>2302227681</td>\n",
       "    </tr>\n",
       "    <tr>\n",
       "      <th>Pets &amp; Animals</th>\n",
       "      <td>1546444478</td>\n",
       "    </tr>\n",
       "    <tr>\n",
       "      <th>Autos &amp; Vehicles</th>\n",
       "      <td>965326030</td>\n",
       "    </tr>\n",
       "    <tr>\n",
       "      <th>Travel &amp; Events</th>\n",
       "      <td>621463371</td>\n",
       "    </tr>\n",
       "    <tr>\n",
       "      <th>Shows</th>\n",
       "      <td>291215740</td>\n",
       "    </tr>\n",
       "    <tr>\n",
       "      <th>Nonprofits &amp; Activism</th>\n",
       "      <td>168941392</td>\n",
       "    </tr>\n",
       "    <tr>\n",
       "      <th>Movies</th>\n",
       "      <td>66160510</td>\n",
       "    </tr>\n",
       "  </tbody>\n",
       "</table>\n",
       "</div>"
      ],
      "text/plain": [
       "                              views\n",
       "category                           \n",
       "Music                  234624451638\n",
       "Entertainment           80182277719\n",
       "Film & Animation        22433074695\n",
       "Comedy                  15675599206\n",
       "People & Blogs          15263811723\n",
       "Sports                  12123794214\n",
       "Howto & Style            7576890495\n",
       "Science & Technology     7031346509\n",
       "News & Politics          6491770934\n",
       "Gaming                   5404093048\n",
       "Education                2302227681\n",
       "Pets & Animals           1546444478\n",
       "Autos & Vehicles          965326030\n",
       "Travel & Events           621463371\n",
       "Shows                     291215740\n",
       "Nonprofits & Activism     168941392\n",
       "Movies                     66160510"
      ]
     },
     "execution_count": 9,
     "metadata": {},
     "output_type": "execute_result"
    }
   ],
   "source": [
    "most_views"
   ]
  },
  {
   "cell_type": "code",
   "execution_count": 10,
   "metadata": {},
   "outputs": [
    {
     "data": {
      "image/png": "[encoded data removed]",
      "text/plain": [
       "<Figure size 432x288 with 1 Axes>"
      ]
     },
     "metadata": {
      "needs_background": "light"
     },
     "output_type": "display_data"
    }
   ],
   "source": [
    "ax = most_views.plot(kind=\"bar\")\n",
    "ax.set_xlabel(\"Categories\")\n",
    "ax.set_ylabel(\"Views\")\n",
    "plt.show()"
   ]
  },
  {
   "cell_type": "code",
   "execution_count": 11,
   "metadata": {},
   "outputs": [
    {
     "data": {
      "text/html": [
       "<div>\n",
       "<style scoped>\n",
       "    .dataframe tbody tr th:only-of-type {\n",
       "        vertical-align: middle;\n",
       "    }\n",
       "\n",
       "    .dataframe tbody tr th {\n",
       "        vertical-align: top;\n",
       "    }\n",
       "\n",
       "    .dataframe thead th {\n",
       "        text-align: right;\n",
       "    }\n",
       "</style>\n",
       "<table border=\"1\" class=\"dataframe\">\n",
       "  <thead>\n",
       "    <tr style=\"text-align: right;\">\n",
       "      <th></th>\n",
       "      <th>likes</th>\n",
       "    </tr>\n",
       "    <tr>\n",
       "      <th>category</th>\n",
       "      <th></th>\n",
       "    </tr>\n",
       "  </thead>\n",
       "  <tbody>\n",
       "    <tr>\n",
       "      <th>Music</th>\n",
       "      <td>5978607702</td>\n",
       "    </tr>\n",
       "    <tr>\n",
       "      <th>Entertainment</th>\n",
       "      <td>2058174792</td>\n",
       "    </tr>\n",
       "    <tr>\n",
       "      <th>Comedy</th>\n",
       "      <td>729880282</td>\n",
       "    </tr>\n",
       "    <tr>\n",
       "      <th>Film &amp; Animation</th>\n",
       "      <td>460459665</td>\n",
       "    </tr>\n",
       "    <tr>\n",
       "      <th>People &amp; Blogs</th>\n",
       "      <td>450595541</td>\n",
       "    </tr>\n",
       "    <tr>\n",
       "      <th>Howto &amp; Style</th>\n",
       "      <td>273312734</td>\n",
       "    </tr>\n",
       "    <tr>\n",
       "      <th>Sports</th>\n",
       "      <td>265929103</td>\n",
       "    </tr>\n",
       "    <tr>\n",
       "      <th>Gaming</th>\n",
       "      <td>197598152</td>\n",
       "    </tr>\n",
       "    <tr>\n",
       "      <th>Science &amp; Technology</th>\n",
       "      <td>178615945</td>\n",
       "    </tr>\n",
       "    <tr>\n",
       "      <th>News &amp; Politics</th>\n",
       "      <td>97053623</td>\n",
       "    </tr>\n",
       "    <tr>\n",
       "      <th>Education</th>\n",
       "      <td>95269294</td>\n",
       "    </tr>\n",
       "    <tr>\n",
       "      <th>Pets &amp; Animals</th>\n",
       "      <td>43852346</td>\n",
       "    </tr>\n",
       "    <tr>\n",
       "      <th>Nonprofits &amp; Activism</th>\n",
       "      <td>14815646</td>\n",
       "    </tr>\n",
       "    <tr>\n",
       "      <th>Autos &amp; Vehicles</th>\n",
       "      <td>13060966</td>\n",
       "    </tr>\n",
       "    <tr>\n",
       "      <th>Travel &amp; Events</th>\n",
       "      <td>9532846</td>\n",
       "    </tr>\n",
       "    <tr>\n",
       "      <th>Shows</th>\n",
       "      <td>3296156</td>\n",
       "    </tr>\n",
       "    <tr>\n",
       "      <th>Movies</th>\n",
       "      <td>915556</td>\n",
       "    </tr>\n",
       "  </tbody>\n",
       "</table>\n",
       "</div>"
      ],
      "text/plain": [
       "                            likes\n",
       "category                         \n",
       "Music                  5978607702\n",
       "Entertainment          2058174792\n",
       "Comedy                  729880282\n",
       "Film & Animation        460459665\n",
       "People & Blogs          450595541\n",
       "Howto & Style           273312734\n",
       "Sports                  265929103\n",
       "Gaming                  197598152\n",
       "Science & Technology    178615945\n",
       "News & Politics          97053623\n",
       "Education                95269294\n",
       "Pets & Animals           43852346\n",
       "Nonprofits & Activism    14815646\n",
       "Autos & Vehicles         13060966\n",
       "Travel & Events           9532846\n",
       "Shows                     3296156\n",
       "Movies                     915556"
      ]
     },
     "execution_count": 11,
     "metadata": {},
     "output_type": "execute_result"
    }
   ],
   "source": [
    "most_likes = pd.pivot_table(data = data,index = 'category',values='likes',aggfunc=np.sum).sort_values('likes',ascending=False)\n",
    "most_likes"
   ]
  },
  {
   "cell_type": "code",
   "execution_count": 12,
   "metadata": {},
   "outputs": [
    {
     "data": {
      "image/png": "[encoded data removed]",
      "text/plain": [
       "<Figure size 432x288 with 1 Axes>"
      ]
     },
     "metadata": {
      "needs_background": "light"
     },
     "output_type": "display_data"
    }
   ],
   "source": [
    "ax = most_likes.plot(kind=\"bar\")\n",
    "ax.set_xlabel(\"Categories\")\n",
    "ax.set_ylabel(\"Views\")\n",
    "plt.show()"
   ]
  },
  {
   "cell_type": "code",
   "execution_count": 13,
   "metadata": {},
   "outputs": [],
   "source": [
    "data['publish_time'] = pd.to_datetime(data['publish_time'])\n",
    "data = data.assign(publish_day = data.publish_time.dt.day, \n",
    "                     publish_month = data.publish_time.dt.month, \n",
    "                     publish_year = data.publish_time.dt.year, \n",
    "                     publish_weekday = data.publish_time.dt.weekday)"
   ]
  },
  {
   "cell_type": "code",
   "execution_count": 14,
   "metadata": {},
   "outputs": [
    {
     "name": "stdout",
     "output_type": "stream",
     "text": [
      "publish_weekday\n",
      "0    2.082090e+06\n",
      "1    2.273457e+06\n",
      "2    2.459592e+06\n",
      "3    2.934103e+06\n",
      "4    3.938822e+06\n",
      "5    1.543371e+06\n",
      "6    2.436175e+06\n",
      "Name: views, dtype: float64\n"
     ]
    }
   ],
   "source": [
    "np.set_printoptions(suppress=True)\n",
    "print(data.groupby('publish_weekday')['views'].mean())"
   ]
  },
  {
   "cell_type": "code",
   "execution_count": 15,
   "metadata": {},
   "outputs": [
    {
     "name": "stdout",
     "output_type": "stream",
     "text": [
      "publish_year\n",
      "2006    2.585060e+05\n",
      "2007    9.186759e+04\n",
      "2008    1.008189e+05\n",
      "2009    5.224696e+04\n",
      "2010    1.008761e+05\n",
      "2011    2.344654e+05\n",
      "2012    1.395713e+05\n",
      "2013    1.441847e+05\n",
      "2014    1.230548e+05\n",
      "2015    1.283197e+05\n",
      "2016    1.126028e+05\n",
      "2017    1.445128e+06\n",
      "2018    3.040306e+06\n",
      "Name: views, dtype: float64\n"
     ]
    }
   ],
   "source": [
    "np.set_printoptions(suppress=True)\n",
    "print(data.groupby('publish_year')['views'].mean())"
   ]
  },
  {
   "cell_type": "code",
   "execution_count": 16,
   "metadata": {},
   "outputs": [
    {
     "data": {
      "text/plain": [
       "12    24379\n",
       "3     23333\n",
       "5     23185\n",
       "1     22929\n",
       "2     22742\n",
       "4     18717\n",
       "11    16423\n",
       "6      5985\n",
       "10      169\n",
       "9       105\n",
       "8        82\n",
       "7        49\n",
       "Name: publish_month, dtype: int64"
      ]
     },
     "execution_count": 16,
     "metadata": {},
     "output_type": "execute_result"
    }
   ],
   "source": [
    "data['publish_month'].value_counts(sort = True)"
   ]
  },
  {
   "cell_type": "code",
   "execution_count": 17,
   "metadata": {},
   "outputs": [
    {
     "data": {
      "text/plain": [
       "<AxesSubplot:xlabel='publish_weekday', ylabel='views'>"
      ]
     },
     "execution_count": 17,
     "metadata": {},
     "output_type": "execute_result"
    },
    {
     "data": {
      "image/png": "[encoded data removed]",
      "text/plain": [
       "<Figure size 432x288 with 1 Axes>"
      ]
     },
     "metadata": {
      "needs_background": "light"
     },
     "output_type": "display_data"
    }
   ],
   "source": [
    "sns.barplot(x = data['publish_weekday'], y = data['views'])"
   ]
  },
  {
   "cell_type": "code",
   "execution_count": 18,
   "metadata": {},
   "outputs": [],
   "source": [
    "data['publish_hour'] = data.publish_time.dt.hour"
   ]
  },
  {
   "cell_type": "code",
   "execution_count": 19,
   "metadata": {},
   "outputs": [
    {
     "data": {
      "text/plain": [
       "<AxesSubplot:xlabel='publish_hour', ylabel='views'>"
      ]
     },
     "execution_count": 19,
     "metadata": {},
     "output_type": "execute_result"
    },
    {
     "data": {
      "image/png": "[encoded data removed]",
      "text/plain": [
       "<Figure size 432x288 with 1 Axes>"
      ]
     },
     "metadata": {
      "needs_background": "light"
     },
     "output_type": "display_data"
    }
   ],
   "source": [
    "sns.barplot(x = data['publish_hour'], y = data['views'])"
   ]
  },
  {
   "cell_type": "code",
   "execution_count": null,
   "metadata": {},
   "outputs": [],
   "source": []
  }
 ],
 "metadata": {
  "kernelspec": {
   "display_name": "Python 3",
   "language": "python",
   "name": "python3"
  },
  "language_info": {
   "codemirror_mode": {
    "name": "ipython",
    "version": 3
   },
   "file_extension": ".py",
   "mimetype": "text/x-python",
   "name": "python",
   "nbconvert_exporter": "python",
   "pygments_lexer": "ipython3",
   "version": "3.8.5"
  }
 },
 "nbformat": 4,
 "nbformat_minor": 2
}
