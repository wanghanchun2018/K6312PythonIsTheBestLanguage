{
 "cells": [
  {
   "cell_type": "code",
   "execution_count": 8,
   "metadata": {},
   "outputs": [],
   "source": [
    "import pandas as pd\n",
    "import numpy as np\n",
    "import json\n",
    "import seaborn as sns\n",
    "import matplotlib.pyplot as plt\n",
    "import matplotlib as mpl\n",
    "from matplotlib import cm\n",
    "import os\n",
    "from subprocess import check_output\n",
    "from wordcloud import WordCloud, STOPWORDS"
   ]
  },
  {
   "cell_type": "code",
   "execution_count": 9,
   "metadata": {},
   "outputs": [],
   "source": [
    "my_df = pd.read_csv('FinalData.csv', index_col='video_id')"
   ]
  },
  {
   "cell_type": "code",
   "execution_count": 19,
   "metadata": {},
   "outputs": [
    {
     "data": {
      "text/html": [
       "<div>\n",
       "<style scoped>\n",
       "    .dataframe tbody tr th:only-of-type {\n",
       "        vertical-align: middle;\n",
       "    }\n",
       "\n",
       "    .dataframe tbody tr th {\n",
       "        vertical-align: top;\n",
       "    }\n",
       "\n",
       "    .dataframe thead th {\n",
       "        text-align: right;\n",
       "    }\n",
       "</style>\n",
       "<table border=\"1\" class=\"dataframe\">\n",
       "  <thead>\n",
       "    <tr style=\"text-align: right;\">\n",
       "      <th></th>\n",
       "      <th>Unnamed: 0</th>\n",
       "      <th>trending_date</th>\n",
       "      <th>title</th>\n",
       "      <th>channel_title</th>\n",
       "      <th>category_id</th>\n",
       "      <th>category</th>\n",
       "      <th>publish_time</th>\n",
       "      <th>tags</th>\n",
       "      <th>views</th>\n",
       "      <th>likes</th>\n",
       "      <th>dislikes</th>\n",
       "      <th>comment_count</th>\n",
       "      <th>description</th>\n",
       "      <th>region</th>\n",
       "    </tr>\n",
       "    <tr>\n",
       "      <th>video_id</th>\n",
       "      <th></th>\n",
       "      <th></th>\n",
       "      <th></th>\n",
       "      <th></th>\n",
       "      <th></th>\n",
       "      <th></th>\n",
       "      <th></th>\n",
       "      <th></th>\n",
       "      <th></th>\n",
       "      <th></th>\n",
       "      <th></th>\n",
       "      <th></th>\n",
       "      <th></th>\n",
       "      <th></th>\n",
       "    </tr>\n",
       "  </thead>\n",
       "  <tbody>\n",
       "    <tr>\n",
       "      <th>n1WpP7iowLc</th>\n",
       "      <td>0</td>\n",
       "      <td>2017-11-14 00:00:00</td>\n",
       "      <td>Eminem - Walk On Water (Audio) ft. Beyoncé</td>\n",
       "      <td>EminemVEVO</td>\n",
       "      <td>10</td>\n",
       "      <td>Music</td>\n",
       "      <td>2017-11-10 17:00:03</td>\n",
       "      <td>Eminem|\"Walk\"|\"On\"|\"Water\"|\"Aftermath/Shady/In...</td>\n",
       "      <td>17158579</td>\n",
       "      <td>787425</td>\n",
       "      <td>43420</td>\n",
       "      <td>125882</td>\n",
       "      <td>Eminem's new track Walk on Water ft. Beyoncé i...</td>\n",
       "      <td>CA</td>\n",
       "    </tr>\n",
       "    <tr>\n",
       "      <th>0dBIkQ4Mz1M</th>\n",
       "      <td>1</td>\n",
       "      <td>2017-11-14 00:00:00</td>\n",
       "      <td>PLUSH - Bad Unboxing Fan Mail</td>\n",
       "      <td>iDubbbzTV</td>\n",
       "      <td>23</td>\n",
       "      <td>Comedy</td>\n",
       "      <td>2017-11-13 17:00:00</td>\n",
       "      <td>plush|\"bad unboxing\"|\"unboxing\"|\"fan mail\"|\"id...</td>\n",
       "      <td>1014651</td>\n",
       "      <td>127794</td>\n",
       "      <td>1688</td>\n",
       "      <td>13030</td>\n",
       "      <td>STill got a lot of packages. Probably will las...</td>\n",
       "      <td>CA</td>\n",
       "    </tr>\n",
       "    <tr>\n",
       "      <th>5qpjK5DgCt4</th>\n",
       "      <td>2</td>\n",
       "      <td>2017-11-14 00:00:00</td>\n",
       "      <td>Racist Superman | Rudy Mancuso, King Bach &amp; Le...</td>\n",
       "      <td>Rudy Mancuso</td>\n",
       "      <td>23</td>\n",
       "      <td>Comedy</td>\n",
       "      <td>2017-11-12 19:05:24</td>\n",
       "      <td>racist superman|\"rudy\"|\"mancuso\"|\"king\"|\"bach\"...</td>\n",
       "      <td>3191434</td>\n",
       "      <td>146035</td>\n",
       "      <td>5339</td>\n",
       "      <td>8181</td>\n",
       "      <td>WATCH MY PREVIOUS VIDEO ▶ \\n\\nSUBSCRIBE ► http...</td>\n",
       "      <td>CA</td>\n",
       "    </tr>\n",
       "    <tr>\n",
       "      <th>d380meD0W0M</th>\n",
       "      <td>3</td>\n",
       "      <td>2017-11-14 00:00:00</td>\n",
       "      <td>I Dare You: GOING BALD!?</td>\n",
       "      <td>nigahiga</td>\n",
       "      <td>24</td>\n",
       "      <td>Entertainment</td>\n",
       "      <td>2017-11-12 18:01:41</td>\n",
       "      <td>ryan|\"higa\"|\"higatv\"|\"nigahiga\"|\"i dare you\"|\"...</td>\n",
       "      <td>2095828</td>\n",
       "      <td>132239</td>\n",
       "      <td>1989</td>\n",
       "      <td>17518</td>\n",
       "      <td>I know it's been a while since we did this sho...</td>\n",
       "      <td>CA</td>\n",
       "    </tr>\n",
       "    <tr>\n",
       "      <th>2Vv-BfVoq4g</th>\n",
       "      <td>4</td>\n",
       "      <td>2017-11-14 00:00:00</td>\n",
       "      <td>Ed Sheeran - Perfect (Official Music Video)</td>\n",
       "      <td>Ed Sheeran</td>\n",
       "      <td>10</td>\n",
       "      <td>Music</td>\n",
       "      <td>2017-11-09 11:04:14</td>\n",
       "      <td>edsheeran|\"ed sheeran\"|\"acoustic\"|\"live\"|\"cove...</td>\n",
       "      <td>33523622</td>\n",
       "      <td>1634130</td>\n",
       "      <td>21082</td>\n",
       "      <td>85067</td>\n",
       "      <td>🎧: https://ad.gt/yt-perfect\\n💰: https://atlant...</td>\n",
       "      <td>CA</td>\n",
       "    </tr>\n",
       "  </tbody>\n",
       "</table>\n",
       "</div>"
      ],
      "text/plain": [
       "             Unnamed: 0        trending_date  \\\n",
       "video_id                                       \n",
       "n1WpP7iowLc           0  2017-11-14 00:00:00   \n",
       "0dBIkQ4Mz1M           1  2017-11-14 00:00:00   \n",
       "5qpjK5DgCt4           2  2017-11-14 00:00:00   \n",
       "d380meD0W0M           3  2017-11-14 00:00:00   \n",
       "2Vv-BfVoq4g           4  2017-11-14 00:00:00   \n",
       "\n",
       "                                                         title channel_title  \\\n",
       "video_id                                                                       \n",
       "n1WpP7iowLc         Eminem - Walk On Water (Audio) ft. Beyoncé    EminemVEVO   \n",
       "0dBIkQ4Mz1M                      PLUSH - Bad Unboxing Fan Mail     iDubbbzTV   \n",
       "5qpjK5DgCt4  Racist Superman | Rudy Mancuso, King Bach & Le...  Rudy Mancuso   \n",
       "d380meD0W0M                           I Dare You: GOING BALD!?      nigahiga   \n",
       "2Vv-BfVoq4g        Ed Sheeran - Perfect (Official Music Video)    Ed Sheeran   \n",
       "\n",
       "             category_id       category         publish_time  \\\n",
       "video_id                                                       \n",
       "n1WpP7iowLc           10          Music  2017-11-10 17:00:03   \n",
       "0dBIkQ4Mz1M           23         Comedy  2017-11-13 17:00:00   \n",
       "5qpjK5DgCt4           23         Comedy  2017-11-12 19:05:24   \n",
       "d380meD0W0M           24  Entertainment  2017-11-12 18:01:41   \n",
       "2Vv-BfVoq4g           10          Music  2017-11-09 11:04:14   \n",
       "\n",
       "                                                          tags     views  \\\n",
       "video_id                                                                   \n",
       "n1WpP7iowLc  Eminem|\"Walk\"|\"On\"|\"Water\"|\"Aftermath/Shady/In...  17158579   \n",
       "0dBIkQ4Mz1M  plush|\"bad unboxing\"|\"unboxing\"|\"fan mail\"|\"id...   1014651   \n",
       "5qpjK5DgCt4  racist superman|\"rudy\"|\"mancuso\"|\"king\"|\"bach\"...   3191434   \n",
       "d380meD0W0M  ryan|\"higa\"|\"higatv\"|\"nigahiga\"|\"i dare you\"|\"...   2095828   \n",
       "2Vv-BfVoq4g  edsheeran|\"ed sheeran\"|\"acoustic\"|\"live\"|\"cove...  33523622   \n",
       "\n",
       "               likes  dislikes  comment_count  \\\n",
       "video_id                                        \n",
       "n1WpP7iowLc   787425     43420         125882   \n",
       "0dBIkQ4Mz1M   127794      1688          13030   \n",
       "5qpjK5DgCt4   146035      5339           8181   \n",
       "d380meD0W0M   132239      1989          17518   \n",
       "2Vv-BfVoq4g  1634130     21082          85067   \n",
       "\n",
       "                                                   description region  \n",
       "video_id                                                               \n",
       "n1WpP7iowLc  Eminem's new track Walk on Water ft. Beyoncé i...     CA  \n",
       "0dBIkQ4Mz1M  STill got a lot of packages. Probably will las...     CA  \n",
       "5qpjK5DgCt4  WATCH MY PREVIOUS VIDEO ▶ \\n\\nSUBSCRIBE ► http...     CA  \n",
       "d380meD0W0M  I know it's been a while since we did this sho...     CA  \n",
       "2Vv-BfVoq4g  🎧: https://ad.gt/yt-perfect\\n💰: https://atlant...     CA  "
      ]
     },
     "execution_count": 19,
     "metadata": {},
     "output_type": "execute_result"
    }
   ],
   "source": [
    "my_df.head()"
   ]
  },
  {
   "cell_type": "code",
   "execution_count": 10,
   "metadata": {},
   "outputs": [
    {
     "data": {
      "text/html": [
       "<div>\n",
       "<style scoped>\n",
       "    .dataframe tbody tr th:only-of-type {\n",
       "        vertical-align: middle;\n",
       "    }\n",
       "\n",
       "    .dataframe tbody tr th {\n",
       "        vertical-align: top;\n",
       "    }\n",
       "\n",
       "    .dataframe thead th {\n",
       "        text-align: right;\n",
       "    }\n",
       "</style>\n",
       "<table border=\"1\" class=\"dataframe\">\n",
       "  <thead>\n",
       "    <tr style=\"text-align: right;\">\n",
       "      <th></th>\n",
       "      <th>Unnamed: 0</th>\n",
       "      <th>category_id</th>\n",
       "      <th>views</th>\n",
       "      <th>likes</th>\n",
       "      <th>dislikes</th>\n",
       "      <th>comment_count</th>\n",
       "    </tr>\n",
       "  </thead>\n",
       "  <tbody>\n",
       "    <tr>\n",
       "      <th>count</th>\n",
       "      <td>158098.000000</td>\n",
       "      <td>158098.000000</td>\n",
       "      <td>1.580980e+05</td>\n",
       "      <td>1.580980e+05</td>\n",
       "      <td>1.580980e+05</td>\n",
       "      <td>1.580980e+05</td>\n",
       "    </tr>\n",
       "    <tr>\n",
       "      <th>mean</th>\n",
       "      <td>79048.500000</td>\n",
       "      <td>19.790250</td>\n",
       "      <td>2.613847e+06</td>\n",
       "      <td>6.898179e+04</td>\n",
       "      <td>3.748059e+03</td>\n",
       "      <td>7.345998e+03</td>\n",
       "    </tr>\n",
       "    <tr>\n",
       "      <th>std</th>\n",
       "      <td>45639.105767</td>\n",
       "      <td>7.405367</td>\n",
       "      <td>1.059344e+07</td>\n",
       "      <td>2.284840e+05</td>\n",
       "      <td>3.189644e+04</td>\n",
       "      <td>3.438558e+04</td>\n",
       "    </tr>\n",
       "    <tr>\n",
       "      <th>min</th>\n",
       "      <td>0.000000</td>\n",
       "      <td>1.000000</td>\n",
       "      <td>5.490000e+02</td>\n",
       "      <td>0.000000e+00</td>\n",
       "      <td>0.000000e+00</td>\n",
       "      <td>0.000000e+00</td>\n",
       "    </tr>\n",
       "    <tr>\n",
       "      <th>25%</th>\n",
       "      <td>39524.250000</td>\n",
       "      <td>17.000000</td>\n",
       "      <td>1.690242e+05</td>\n",
       "      <td>2.440000e+03</td>\n",
       "      <td>1.390000e+02</td>\n",
       "      <td>3.260000e+02</td>\n",
       "    </tr>\n",
       "    <tr>\n",
       "      <th>50%</th>\n",
       "      <td>79048.500000</td>\n",
       "      <td>24.000000</td>\n",
       "      <td>4.956635e+05</td>\n",
       "      <td>1.116200e+04</td>\n",
       "      <td>4.630000e+02</td>\n",
       "      <td>1.270000e+03</td>\n",
       "    </tr>\n",
       "    <tr>\n",
       "      <th>75%</th>\n",
       "      <td>118572.750000</td>\n",
       "      <td>24.000000</td>\n",
       "      <td>1.530977e+06</td>\n",
       "      <td>4.407775e+04</td>\n",
       "      <td>1.617000e+03</td>\n",
       "      <td>4.419000e+03</td>\n",
       "    </tr>\n",
       "    <tr>\n",
       "      <th>max</th>\n",
       "      <td>158097.000000</td>\n",
       "      <td>43.000000</td>\n",
       "      <td>4.245389e+08</td>\n",
       "      <td>5.613827e+06</td>\n",
       "      <td>1.944971e+06</td>\n",
       "      <td>1.626501e+06</td>\n",
       "    </tr>\n",
       "  </tbody>\n",
       "</table>\n",
       "</div>"
      ],
      "text/plain": [
       "          Unnamed: 0    category_id         views         likes      dislikes  \\\n",
       "count  158098.000000  158098.000000  1.580980e+05  1.580980e+05  1.580980e+05   \n",
       "mean    79048.500000      19.790250  2.613847e+06  6.898179e+04  3.748059e+03   \n",
       "std     45639.105767       7.405367  1.059344e+07  2.284840e+05  3.189644e+04   \n",
       "min         0.000000       1.000000  5.490000e+02  0.000000e+00  0.000000e+00   \n",
       "25%     39524.250000      17.000000  1.690242e+05  2.440000e+03  1.390000e+02   \n",
       "50%     79048.500000      24.000000  4.956635e+05  1.116200e+04  4.630000e+02   \n",
       "75%    118572.750000      24.000000  1.530977e+06  4.407775e+04  1.617000e+03   \n",
       "max    158097.000000      43.000000  4.245389e+08  5.613827e+06  1.944971e+06   \n",
       "\n",
       "       comment_count  \n",
       "count   1.580980e+05  \n",
       "mean    7.345998e+03  \n",
       "std     3.438558e+04  \n",
       "min     0.000000e+00  \n",
       "25%     3.260000e+02  \n",
       "50%     1.270000e+03  \n",
       "75%     4.419000e+03  \n",
       "max     1.626501e+06  "
      ]
     },
     "execution_count": 10,
     "metadata": {},
     "output_type": "execute_result"
    }
   ],
   "source": [
    "my_df.describe()"
   ]
  },
  {
   "cell_type": "code",
   "execution_count": 91,
   "metadata": {},
   "outputs": [
    {
     "data": {
      "image/png": "[encoded data removed]",
      "text/plain": [
       "<Figure size 432x288 with 1 Axes>"
      ]
     },
     "metadata": {},
     "output_type": "display_data"
    }
   ],
   "source": [
    "#Which channel posted the most number of videos? List the top 5 channels with the most videos.\n",
    "\n",
    "vcount = my_df.groupby(\"channel_title\").size().reset_index(name=\"video_count\") \n",
    "cdf = vcount.sort_values(\"video_count\", ascending=False).head(5)\n",
    "fig, ax = plt.subplots()\n",
    "_ = sns.barplot(x=\"video_count\", y=\"channel_title\", data=cdf,\n",
    "                palette=sns.cubehelix_palette(n_colors=5, reverse=True), ax=ax)\n",
    "_ = ax.set(xlabel=\"No. of videos\", ylabel=\"Channel\")"
   ]
  },
  {
   "cell_type": "code",
   "execution_count": 12,
   "metadata": {},
   "outputs": [
    {
     "data": {
      "text/html": [
       "<div>\n",
       "<style scoped>\n",
       "    .dataframe tbody tr th:only-of-type {\n",
       "        vertical-align: middle;\n",
       "    }\n",
       "\n",
       "    .dataframe tbody tr th {\n",
       "        vertical-align: top;\n",
       "    }\n",
       "\n",
       "    .dataframe thead th {\n",
       "        text-align: right;\n",
       "    }\n",
       "</style>\n",
       "<table border=\"1\" class=\"dataframe\">\n",
       "  <thead>\n",
       "    <tr style=\"text-align: right;\">\n",
       "      <th></th>\n",
       "      <th>channel_title</th>\n",
       "      <th>video_count</th>\n",
       "    </tr>\n",
       "  </thead>\n",
       "  <tbody>\n",
       "    <tr>\n",
       "      <th>6198</th>\n",
       "      <td>The Late Show with Stephen Colbert</td>\n",
       "      <td>639</td>\n",
       "    </tr>\n",
       "    <tr>\n",
       "      <th>6331</th>\n",
       "      <td>TheEllenShow</td>\n",
       "      <td>603</td>\n",
       "    </tr>\n",
       "    <tr>\n",
       "      <th>6912</th>\n",
       "      <td>WWE</td>\n",
       "      <td>594</td>\n",
       "    </tr>\n",
       "    <tr>\n",
       "      <th>2996</th>\n",
       "      <td>Jimmy Kimmel Live</td>\n",
       "      <td>576</td>\n",
       "    </tr>\n",
       "    <tr>\n",
       "      <th>6277</th>\n",
       "      <td>The Tonight Show Starring Jimmy Fallon</td>\n",
       "      <td>570</td>\n",
       "    </tr>\n",
       "  </tbody>\n",
       "</table>\n",
       "</div>"
      ],
      "text/plain": [
       "                               channel_title  video_count\n",
       "6198      The Late Show with Stephen Colbert          639\n",
       "6331                            TheEllenShow          603\n",
       "6912                                     WWE          594\n",
       "2996                       Jimmy Kimmel Live          576\n",
       "6277  The Tonight Show Starring Jimmy Fallon          570"
      ]
     },
     "execution_count": 12,
     "metadata": {},
     "output_type": "execute_result"
    }
   ],
   "source": [
    "#How many videos did The top 5 channel posted?\n",
    "cdf = my_df.groupby(\"channel_title\",\"category\").size().reset_index(name=\"video_count\").sort_values(\"video_count\", ascending=False).head(5)\n",
    "cdf"
   ]
  },
  {
   "cell_type": "code",
   "execution_count": 92,
   "metadata": {},
   "outputs": [
    {
     "data": {
      "text/html": [
       "<div>\n",
       "<style scoped>\n",
       "    .dataframe tbody tr th:only-of-type {\n",
       "        vertical-align: middle;\n",
       "    }\n",
       "\n",
       "    .dataframe tbody tr th {\n",
       "        vertical-align: top;\n",
       "    }\n",
       "\n",
       "    .dataframe thead th {\n",
       "        text-align: right;\n",
       "    }\n",
       "</style>\n",
       "<table border=\"1\" class=\"dataframe\">\n",
       "  <thead>\n",
       "    <tr style=\"text-align: right;\">\n",
       "      <th></th>\n",
       "      <th></th>\n",
       "      <th>views</th>\n",
       "    </tr>\n",
       "    <tr>\n",
       "      <th>channel_title</th>\n",
       "      <th>category</th>\n",
       "      <th></th>\n",
       "    </tr>\n",
       "  </thead>\n",
       "  <tbody>\n",
       "    <tr>\n",
       "      <th>ChildishGambinoVEVO</th>\n",
       "      <th>Music</th>\n",
       "      <td>10271573447</td>\n",
       "    </tr>\n",
       "    <tr>\n",
       "      <th>NickyJamTV</th>\n",
       "      <th>Music</th>\n",
       "      <td>9002554388</td>\n",
       "    </tr>\n",
       "    <tr>\n",
       "      <th>Ozuna</th>\n",
       "      <th>Music</th>\n",
       "      <td>8448627293</td>\n",
       "    </tr>\n",
       "    <tr>\n",
       "      <th>Marvel Entertainment</th>\n",
       "      <th>Entertainment</th>\n",
       "      <td>8073441375</td>\n",
       "    </tr>\n",
       "    <tr>\n",
       "      <th>DrakeVEVO</th>\n",
       "      <th>Music</th>\n",
       "      <td>7355539765</td>\n",
       "    </tr>\n",
       "  </tbody>\n",
       "</table>\n",
       "</div>"
      ],
      "text/plain": [
       "                                          views\n",
       "channel_title        category                  \n",
       "ChildishGambinoVEVO  Music          10271573447\n",
       "NickyJamTV           Music           9002554388\n",
       "Ozuna                Music           8448627293\n",
       "Marvel Entertainment Entertainment   8073441375\n",
       "DrakeVEVO            Music           7355539765"
      ]
     },
     "execution_count": 92,
     "metadata": {},
     "output_type": "execute_result"
    }
   ],
   "source": [
    "#which channel wins the most number of views?\n",
    "#categorize = my_df.groupby(\"category\").size().reset_index(name=\"categorized\")\n",
    "most_views = pd.pivot_table(data = my_df,index =['channel_title','category'] ,values='views',aggfunc=np.sum).sort_values('views',ascending=False).head(5)\n",
    "most_views\n"
   ]
  },
  {
   "cell_type": "code",
   "execution_count": 45,
   "metadata": {},
   "outputs": [
    {
     "data": {
      "text/plain": [
       "Text(0, 0.5, 'views')"
      ]
     },
     "execution_count": 45,
     "metadata": {},
     "output_type": "execute_result"
    },
    {
     "data": {
      "image/png": "[encoded data removed]",
      "text/plain": [
       "<Figure size 432x288 with 1 Axes>"
      ]
     },
     "metadata": {},
     "output_type": "display_data"
    }
   ],
   "source": [
    "ax = most_likes.plot(kind=\"bar\")\n",
    "ax.set_xlabel(\"channel_title\")\n",
    "ax.set_ylabel(\"views\")"
   ]
  },
  {
   "cell_type": "code",
   "execution_count": 81,
   "metadata": {},
   "outputs": [
    {
     "data": {
      "text/html": [
       "<div>\n",
       "<style scoped>\n",
       "    .dataframe tbody tr th:only-of-type {\n",
       "        vertical-align: middle;\n",
       "    }\n",
       "\n",
       "    .dataframe tbody tr th {\n",
       "        vertical-align: top;\n",
       "    }\n",
       "\n",
       "    .dataframe thead th {\n",
       "        text-align: right;\n",
       "    }\n",
       "</style>\n",
       "<table border=\"1\" class=\"dataframe\">\n",
       "  <thead>\n",
       "    <tr style=\"text-align: right;\">\n",
       "      <th></th>\n",
       "      <th></th>\n",
       "      <th>likes</th>\n",
       "    </tr>\n",
       "    <tr>\n",
       "      <th>channel_title</th>\n",
       "      <th>category</th>\n",
       "      <th></th>\n",
       "    </tr>\n",
       "  </thead>\n",
       "  <tbody>\n",
       "    <tr>\n",
       "      <th>ibighit</th>\n",
       "      <th>Music</th>\n",
       "      <td>532677963</td>\n",
       "    </tr>\n",
       "    <tr>\n",
       "      <th>ChildishGambinoVEVO</th>\n",
       "      <th>Music</th>\n",
       "      <td>259702791</td>\n",
       "    </tr>\n",
       "    <tr>\n",
       "      <th>Marvel Entertainment</th>\n",
       "      <th>Entertainment</th>\n",
       "      <td>230233691</td>\n",
       "    </tr>\n",
       "    <tr>\n",
       "      <th>DrakeVEVO</th>\n",
       "      <th>Music</th>\n",
       "      <td>171892684</td>\n",
       "    </tr>\n",
       "    <tr>\n",
       "      <th>TaylorSwiftVEVO</th>\n",
       "      <th>Music</th>\n",
       "      <td>163724748</td>\n",
       "    </tr>\n",
       "  </tbody>\n",
       "</table>\n",
       "</div>"
      ],
      "text/plain": [
       "                                        likes\n",
       "channel_title        category                \n",
       "ibighit              Music          532677963\n",
       "ChildishGambinoVEVO  Music          259702791\n",
       "Marvel Entertainment Entertainment  230233691\n",
       "DrakeVEVO            Music          171892684\n",
       "TaylorSwiftVEVO      Music          163724748"
      ]
     },
     "execution_count": 81,
     "metadata": {},
     "output_type": "execute_result"
    }
   ],
   "source": [
    "#which channel wins the most likes? \n",
    "\n",
    "most_likes = pd.pivot_table(data = my_df,index =[ 'channel_title','category'],values='likes',aggfunc=np.sum).sort_values('likes',ascending=False).head(5)\n",
    "most_likes\n"
   ]
  },
  {
   "cell_type": "code",
   "execution_count": 50,
   "metadata": {},
   "outputs": [
    {
     "data": {
      "text/plain": [
       "Text(0, 0.5, 'likes')"
      ]
     },
     "execution_count": 50,
     "metadata": {},
     "output_type": "execute_result"
    },
    {
     "data": {
      "image/png": "[encoded data removed]",
      "text/plain": [
       "<Figure size 432x288 with 1 Axes>"
      ]
     },
     "metadata": {},
     "output_type": "display_data"
    }
   ],
   "source": [
    "ax = most_likes.plot(kind=\"bar\")\n",
    "ax.set_xlabel(\"channel_title\")\n",
    "ax.set_ylabel(\"likes\")"
   ]
  },
  {
   "cell_type": "code",
   "execution_count": 100,
   "metadata": {},
   "outputs": [
    {
     "data": {
      "text/html": [
       "<div>\n",
       "<style scoped>\n",
       "    .dataframe tbody tr th:only-of-type {\n",
       "        vertical-align: middle;\n",
       "    }\n",
       "\n",
       "    .dataframe tbody tr th {\n",
       "        vertical-align: top;\n",
       "    }\n",
       "\n",
       "    .dataframe thead th {\n",
       "        text-align: right;\n",
       "    }\n",
       "</style>\n",
       "<table border=\"1\" class=\"dataframe\">\n",
       "  <thead>\n",
       "    <tr style=\"text-align: right;\">\n",
       "      <th></th>\n",
       "      <th></th>\n",
       "      <th>dislikes</th>\n",
       "    </tr>\n",
       "    <tr>\n",
       "      <th>channel_title</th>\n",
       "      <th>category</th>\n",
       "      <th></th>\n",
       "    </tr>\n",
       "  </thead>\n",
       "  <tbody>\n",
       "    <tr>\n",
       "      <th>YouTube Spotlight</th>\n",
       "      <th>Entertainment</th>\n",
       "      <td>53957987</td>\n",
       "    </tr>\n",
       "    <tr>\n",
       "      <th>Logan Paul Vlogs</th>\n",
       "      <th>Entertainment</th>\n",
       "      <td>38757872</td>\n",
       "    </tr>\n",
       "    <tr>\n",
       "      <th>ChildishGambinoVEVO</th>\n",
       "      <th>Music</th>\n",
       "      <td>16302722</td>\n",
       "    </tr>\n",
       "    <tr>\n",
       "      <th>Lucas Lucco</th>\n",
       "      <th>Music</th>\n",
       "      <td>10006058</td>\n",
       "    </tr>\n",
       "    <tr>\n",
       "      <th>TaylorSwiftVEVO</th>\n",
       "      <th>Music</th>\n",
       "      <td>8968290</td>\n",
       "    </tr>\n",
       "  </tbody>\n",
       "</table>\n",
       "</div>"
      ],
      "text/plain": [
       "                                   dislikes\n",
       "channel_title       category               \n",
       "YouTube Spotlight   Entertainment  53957987\n",
       "Logan Paul Vlogs    Entertainment  38757872\n",
       "ChildishGambinoVEVO Music          16302722\n",
       "Lucas Lucco         Music          10006058\n",
       "TaylorSwiftVEVO     Music           8968290"
      ]
     },
     "execution_count": 100,
     "metadata": {},
     "output_type": "execute_result"
    }
   ],
   "source": [
    "#which channel got the most dislikes? \n",
    "\n",
    "most_dislikes = pd.pivot_table(data = my_df,index =[ 'channel_title','category'],values='dislikes',aggfunc=np.sum).sort_values('dislikes',ascending=False).head(5)\n",
    "most_dislikes\n",
    "\n"
   ]
  },
  {
   "cell_type": "code",
   "execution_count": 104,
   "metadata": {},
   "outputs": [
    {
     "data": {
      "text/plain": [
       "Text(0, 0.5, 'dislikes')"
      ]
     },
     "execution_count": 104,
     "metadata": {},
     "output_type": "execute_result"
    },
    {
     "data": {
      "image/png": "[encoded data removed]",
      "text/plain": [
       "<Figure size 432x288 with 1 Axes>"
      ]
     },
     "metadata": {},
     "output_type": "display_data"
    }
   ],
   "source": [
    "ax = most_dislikes.plot(kind=\"bar\")\n",
    "ax.set_xlabel(\"channel_title\")\n",
    "ax.set_ylabel(\"dislikes\")"
   ]
  },
  {
   "cell_type": "code",
   "execution_count": 102,
   "metadata": {},
   "outputs": [
    {
     "data": {
      "text/html": [
       "<div>\n",
       "<style scoped>\n",
       "    .dataframe tbody tr th:only-of-type {\n",
       "        vertical-align: middle;\n",
       "    }\n",
       "\n",
       "    .dataframe tbody tr th {\n",
       "        vertical-align: top;\n",
       "    }\n",
       "\n",
       "    .dataframe thead th {\n",
       "        text-align: right;\n",
       "    }\n",
       "</style>\n",
       "<table border=\"1\" class=\"dataframe\">\n",
       "  <thead>\n",
       "    <tr style=\"text-align: right;\">\n",
       "      <th></th>\n",
       "      <th></th>\n",
       "      <th>comment_count</th>\n",
       "    </tr>\n",
       "    <tr>\n",
       "      <th>channel_title</th>\n",
       "      <th>category</th>\n",
       "      <th></th>\n",
       "    </tr>\n",
       "  </thead>\n",
       "  <tbody>\n",
       "    <tr>\n",
       "      <th>ibighit</th>\n",
       "      <th>Music</th>\n",
       "      <td>83001168</td>\n",
       "    </tr>\n",
       "    <tr>\n",
       "      <th>Logan Paul Vlogs</th>\n",
       "      <th>Entertainment</th>\n",
       "      <td>38080258</td>\n",
       "    </tr>\n",
       "    <tr>\n",
       "      <th>YouTube Spotlight</th>\n",
       "      <th>Entertainment</th>\n",
       "      <td>30433734</td>\n",
       "    </tr>\n",
       "    <tr>\n",
       "      <th>ChildishGambinoVEVO</th>\n",
       "      <th>Music</th>\n",
       "      <td>27138372</td>\n",
       "    </tr>\n",
       "    <tr>\n",
       "      <th>Marvel Entertainment</th>\n",
       "      <th>Entertainment</th>\n",
       "      <td>27123009</td>\n",
       "    </tr>\n",
       "  </tbody>\n",
       "</table>\n",
       "</div>"
      ],
      "text/plain": [
       "                                    comment_count\n",
       "channel_title        category                    \n",
       "ibighit              Music               83001168\n",
       "Logan Paul Vlogs     Entertainment       38080258\n",
       "YouTube Spotlight    Entertainment       30433734\n",
       "ChildishGambinoVEVO  Music               27138372\n",
       "Marvel Entertainment Entertainment       27123009"
      ]
     },
     "execution_count": 102,
     "metadata": {},
     "output_type": "execute_result"
    }
   ],
   "source": [
    "#which channel got the most commentss? \n",
    "\n",
    "most_comments = pd.pivot_table(data = my_df,index =[ 'channel_title','category'],values='comment_count',aggfunc=np.sum).sort_values('comment_count',ascending=False).head(5)\n",
    "most_comments"
   ]
  },
  {
   "cell_type": "code",
   "execution_count": 105,
   "metadata": {},
   "outputs": [
    {
     "data": {
      "text/plain": [
       "Text(0, 0.5, 'comments count')"
      ]
     },
     "execution_count": 105,
     "metadata": {},
     "output_type": "execute_result"
    },
    {
     "data": {
      "image/png": "[encoded data removed]",
      "text/plain": [
       "<Figure size 432x288 with 1 Axes>"
      ]
     },
     "metadata": {},
     "output_type": "display_data"
    }
   ],
   "source": [
    "ax = most_comments.plot(kind=\"bar\")\n",
    "ax.set_xlabel(\"channel_title\")\n",
    "ax.set_ylabel(\"comments count\")"
   ]
  },
  {
   "cell_type": "code",
   "execution_count": 93,
   "metadata": {},
   "outputs": [
    {
     "data": {
      "text/html": [
       "<div>\n",
       "<style scoped>\n",
       "    .dataframe tbody tr th:only-of-type {\n",
       "        vertical-align: middle;\n",
       "    }\n",
       "\n",
       "    .dataframe tbody tr th {\n",
       "        vertical-align: top;\n",
       "    }\n",
       "\n",
       "    .dataframe thead th {\n",
       "        text-align: right;\n",
       "    }\n",
       "</style>\n",
       "<table border=\"1\" class=\"dataframe\">\n",
       "  <thead>\n",
       "    <tr style=\"text-align: right;\">\n",
       "      <th></th>\n",
       "      <th>Unnamed: 0</th>\n",
       "      <th>category_id</th>\n",
       "      <th>views</th>\n",
       "      <th>likes</th>\n",
       "      <th>dislikes</th>\n",
       "      <th>comment_count</th>\n",
       "    </tr>\n",
       "  </thead>\n",
       "  <tbody>\n",
       "    <tr>\n",
       "      <th>count</th>\n",
       "      <td>158098.000000</td>\n",
       "      <td>158098.000000</td>\n",
       "      <td>1.580980e+05</td>\n",
       "      <td>1.580980e+05</td>\n",
       "      <td>1.580980e+05</td>\n",
       "      <td>1.580980e+05</td>\n",
       "    </tr>\n",
       "    <tr>\n",
       "      <th>mean</th>\n",
       "      <td>79048.500000</td>\n",
       "      <td>19.790250</td>\n",
       "      <td>2.613847e+06</td>\n",
       "      <td>6.898179e+04</td>\n",
       "      <td>3.748059e+03</td>\n",
       "      <td>7.345998e+03</td>\n",
       "    </tr>\n",
       "    <tr>\n",
       "      <th>std</th>\n",
       "      <td>45639.105767</td>\n",
       "      <td>7.405367</td>\n",
       "      <td>1.059344e+07</td>\n",
       "      <td>2.284840e+05</td>\n",
       "      <td>3.189644e+04</td>\n",
       "      <td>3.438558e+04</td>\n",
       "    </tr>\n",
       "    <tr>\n",
       "      <th>min</th>\n",
       "      <td>0.000000</td>\n",
       "      <td>1.000000</td>\n",
       "      <td>5.490000e+02</td>\n",
       "      <td>0.000000e+00</td>\n",
       "      <td>0.000000e+00</td>\n",
       "      <td>0.000000e+00</td>\n",
       "    </tr>\n",
       "    <tr>\n",
       "      <th>25%</th>\n",
       "      <td>39524.250000</td>\n",
       "      <td>17.000000</td>\n",
       "      <td>1.690242e+05</td>\n",
       "      <td>2.440000e+03</td>\n",
       "      <td>1.390000e+02</td>\n",
       "      <td>3.260000e+02</td>\n",
       "    </tr>\n",
       "    <tr>\n",
       "      <th>50%</th>\n",
       "      <td>79048.500000</td>\n",
       "      <td>24.000000</td>\n",
       "      <td>4.956635e+05</td>\n",
       "      <td>1.116200e+04</td>\n",
       "      <td>4.630000e+02</td>\n",
       "      <td>1.270000e+03</td>\n",
       "    </tr>\n",
       "    <tr>\n",
       "      <th>75%</th>\n",
       "      <td>118572.750000</td>\n",
       "      <td>24.000000</td>\n",
       "      <td>1.530977e+06</td>\n",
       "      <td>4.407775e+04</td>\n",
       "      <td>1.617000e+03</td>\n",
       "      <td>4.419000e+03</td>\n",
       "    </tr>\n",
       "    <tr>\n",
       "      <th>max</th>\n",
       "      <td>158097.000000</td>\n",
       "      <td>43.000000</td>\n",
       "      <td>4.245389e+08</td>\n",
       "      <td>5.613827e+06</td>\n",
       "      <td>1.944971e+06</td>\n",
       "      <td>1.626501e+06</td>\n",
       "    </tr>\n",
       "  </tbody>\n",
       "</table>\n",
       "</div>"
      ],
      "text/plain": [
       "          Unnamed: 0    category_id         views         likes      dislikes  \\\n",
       "count  158098.000000  158098.000000  1.580980e+05  1.580980e+05  1.580980e+05   \n",
       "mean    79048.500000      19.790250  2.613847e+06  6.898179e+04  3.748059e+03   \n",
       "std     45639.105767       7.405367  1.059344e+07  2.284840e+05  3.189644e+04   \n",
       "min         0.000000       1.000000  5.490000e+02  0.000000e+00  0.000000e+00   \n",
       "25%     39524.250000      17.000000  1.690242e+05  2.440000e+03  1.390000e+02   \n",
       "50%     79048.500000      24.000000  4.956635e+05  1.116200e+04  4.630000e+02   \n",
       "75%    118572.750000      24.000000  1.530977e+06  4.407775e+04  1.617000e+03   \n",
       "max    158097.000000      43.000000  4.245389e+08  5.613827e+06  1.944971e+06   \n",
       "\n",
       "       comment_count  \n",
       "count   1.580980e+05  \n",
       "mean    7.345998e+03  \n",
       "std     3.438558e+04  \n",
       "min     0.000000e+00  \n",
       "25%     3.260000e+02  \n",
       "50%     1.270000e+03  \n",
       "75%     4.419000e+03  \n",
       "max     1.626501e+06  "
      ]
     },
     "execution_count": 93,
     "metadata": {},
     "output_type": "execute_result"
    }
   ],
   "source": [
    "my_df.describe()"
   ]
  },
  {
   "cell_type": "code",
   "execution_count": 5,
   "metadata": {},
   "outputs": [
    {
     "name": "stderr",
     "output_type": "stream",
     "text": [
      "E:\\NTU\\k6312\\lib\\site-packages\\seaborn\\distributions.py:2551: FutureWarning: `distplot` is a deprecated function and will be removed in a future version. Please adapt your code to use either `displot` (a figure-level function with similar flexibility) or `histplot` (an axes-level function for histograms).\n",
      "  warnings.warn(msg, FutureWarning)\n",
      "E:\\NTU\\k6312\\lib\\site-packages\\seaborn\\distributions.py:2551: FutureWarning: `distplot` is a deprecated function and will be removed in a future version. Please adapt your code to use either `displot` (a figure-level function with similar flexibility) or `histplot` (an axes-level function for histograms).\n",
      "  warnings.warn(msg, FutureWarning)\n",
      "E:\\NTU\\k6312\\lib\\site-packages\\seaborn\\distributions.py:2551: FutureWarning: `distplot` is a deprecated function and will be removed in a future version. Please adapt your code to use either `displot` (a figure-level function with similar flexibility) or `histplot` (an axes-level function for histograms).\n",
      "  warnings.warn(msg, FutureWarning)\n",
      "E:\\NTU\\k6312\\lib\\site-packages\\seaborn\\distributions.py:2551: FutureWarning: `distplot` is a deprecated function and will be removed in a future version. Please adapt your code to use either `displot` (a figure-level function with similar flexibility) or `histplot` (an axes-level function for histograms).\n",
      "  warnings.warn(msg, FutureWarning)\n"
     ]
    },
    {
     "data": {
      "image/png": "[encoded data removed]",
      "text/plain": [
       "<Figure size 864x432 with 4 Axes>"
      ]
     },
     "metadata": {
      "needs_background": "light"
     },
     "output_type": "display_data"
    }
   ],
   "source": [
    "my_df['likes_log'] = np.log(my_df['likes'] + 1)\n",
    "my_df['views_log'] = np.log(my_df['views'] + 1)\n",
    "my_df['dislikes_log'] = np.log(my_df['dislikes'] + 1)\n",
    "my_df['comment_log'] = np.log(my_df['comment_count'] + 1)\n",
    "\n",
    "\n",
    "\n",
    "plt.figure(figsize = (12,6))\n",
    "\n",
    "plt.subplot(221)\n",
    "g1 = sns.distplot(my_df['views_log'])\n",
    "g1.set_title(\"VIEWS LOG DISTRIBUITION\", fontsize=16)\n",
    "\n",
    "plt.subplot(224)\n",
    "g2 = sns.distplot(my_df['likes_log'],color='green')\n",
    "g2.set_title('LIKES LOG DISTRIBUITION', fontsize=16)\n",
    "\n",
    "plt.subplot(223)\n",
    "g3 = sns.distplot(my_df['dislikes_log'], color='r')\n",
    "g3.set_title(\"DISLIKES LOG DISTRIBUITION\", fontsize=16)\n",
    "\n",
    "plt.subplot(222)\n",
    "g4 = sns.distplot(my_df['comment_log'])\n",
    "g4.set_title(\"COMMENTS LOG DISTRIBUITION\", fontsize=16)\n",
    "\n",
    "plt.subplots_adjust(wspace = 0.2, hspace = 0.4,top = 0.9)\n",
    "\n",
    "plt.show()"
   ]
  },
  {
   "cell_type": "code",
   "execution_count": 106,
   "metadata": {},
   "outputs": [
    {
     "name": "stdout",
     "output_type": "stream",
     "text": [
      "video_id\n",
      "n1WpP7iowLc     4.589104\n",
      "0dBIkQ4Mz1M    12.594873\n",
      "5qpjK5DgCt4     4.575843\n",
      "d380meD0W0M     6.309630\n",
      "2Vv-BfVoq4g     4.874563\n",
      "                 ...    \n",
      "BZt0qjTWNhw     2.263870\n",
      "1h7KV2sjUWY     5.635623\n",
      "D6Oy4LfoqsU     4.507286\n",
      "oV0zkMe1K8s     3.408645\n",
      "ooyjaVdt-jA     3.464728\n",
      "Name: like_rate, Length: 158098, dtype: float64\n"
     ]
    },
    {
     "name": "stderr",
     "output_type": "stream",
     "text": [
      "E:\\NTU\\k6312\\lib\\site-packages\\seaborn\\distributions.py:2551: FutureWarning: `distplot` is a deprecated function and will be removed in a future version. Please adapt your code to use either `displot` (a figure-level function with similar flexibility) or `kdeplot` (an axes-level function for kernel density plots).\n",
      "  warnings.warn(msg, FutureWarning)\n",
      "E:\\NTU\\k6312\\lib\\site-packages\\seaborn\\distributions.py:2551: FutureWarning: `distplot` is a deprecated function and will be removed in a future version. Please adapt your code to use either `displot` (a figure-level function with similar flexibility) or `kdeplot` (an axes-level function for kernel density plots).\n",
      "  warnings.warn(msg, FutureWarning)\n",
      "E:\\NTU\\k6312\\lib\\site-packages\\seaborn\\distributions.py:2551: FutureWarning: `distplot` is a deprecated function and will be removed in a future version. Please adapt your code to use either `displot` (a figure-level function with similar flexibility) or `kdeplot` (an axes-level function for kernel density plots).\n",
      "  warnings.warn(msg, FutureWarning)\n"
     ]
    },
    {
     "data": {
      "image/png": "[encoded data removed]",
      "text/plain": [
       "<Figure size 648x432 with 1 Axes>"
      ]
     },
     "metadata": {},
     "output_type": "display_data"
    }
   ],
   "source": [
    "my_df['like_rate'] =  my_df ['likes'] / my_df['views'] * 100\n",
    "my_df['dislike_rate'] =  my_df ['dislikes'] / my_df['views'] * 100\n",
    "my_df['comment_rate'] =  my_df ['comment_count'] / my_df['views'] * 100\n",
    "\n",
    "print(my_df['like_rate'])\n",
    "\n",
    "plt.figure(figsize = (9,6))\n",
    "\n",
    "g1 = sns.distplot(my_df['dislike_rate'], color='red',hist=False, label=\"Dislike\")\n",
    "g1 = sns.distplot(my_df['like_rate'], color='green',hist=False, label=\"Like\")\n",
    "g1 = sns.distplot(my_df['comment_rate'],hist=False,label=\"Comment\")\n",
    "g1.set_title('CONVERT RATE DISTRIBUITION', fontsize=16)\n",
    "plt.legend()\n",
    "plt.show()"
   ]
  },
  {
   "cell_type": "code",
   "execution_count": 13,
   "metadata": {
    "scrolled": true
   },
   "outputs": [
    {
     "data": {
      "text/html": [
       "<div>\n",
       "<style scoped>\n",
       "    .dataframe tbody tr th:only-of-type {\n",
       "        vertical-align: middle;\n",
       "    }\n",
       "\n",
       "    .dataframe tbody tr th {\n",
       "        vertical-align: top;\n",
       "    }\n",
       "\n",
       "    .dataframe thead th {\n",
       "        text-align: right;\n",
       "    }\n",
       "</style>\n",
       "<table border=\"1\" class=\"dataframe\">\n",
       "  <thead>\n",
       "    <tr style=\"text-align: right;\">\n",
       "      <th></th>\n",
       "      <th>views</th>\n",
       "      <th>likes</th>\n",
       "      <th>dislikes</th>\n",
       "      <th>comment_count</th>\n",
       "    </tr>\n",
       "  </thead>\n",
       "  <tbody>\n",
       "    <tr>\n",
       "      <th>views</th>\n",
       "      <td>1.000000</td>\n",
       "      <td>0.790342</td>\n",
       "      <td>0.414937</td>\n",
       "      <td>0.501701</td>\n",
       "    </tr>\n",
       "    <tr>\n",
       "      <th>likes</th>\n",
       "      <td>0.790342</td>\n",
       "      <td>1.000000</td>\n",
       "      <td>0.454131</td>\n",
       "      <td>0.773195</td>\n",
       "    </tr>\n",
       "    <tr>\n",
       "      <th>dislikes</th>\n",
       "      <td>0.414937</td>\n",
       "      <td>0.454131</td>\n",
       "      <td>1.000000</td>\n",
       "      <td>0.733559</td>\n",
       "    </tr>\n",
       "    <tr>\n",
       "      <th>comment_count</th>\n",
       "      <td>0.501701</td>\n",
       "      <td>0.773195</td>\n",
       "      <td>0.733559</td>\n",
       "      <td>1.000000</td>\n",
       "    </tr>\n",
       "  </tbody>\n",
       "</table>\n",
       "</div>"
      ],
      "text/plain": [
       "                  views     likes  dislikes  comment_count\n",
       "views          1.000000  0.790342  0.414937       0.501701\n",
       "likes          0.790342  1.000000  0.454131       0.773195\n",
       "dislikes       0.414937  0.454131  1.000000       0.733559\n",
       "comment_count  0.501701  0.773195  0.733559       1.000000"
      ]
     },
     "metadata": {},
     "output_type": "display_data"
    },
    {
     "data": {
      "text/plain": [
       "<AxesSubplot:>"
      ]
     },
     "execution_count": 13,
     "metadata": {},
     "output_type": "execute_result"
    },
    {
     "data": {
      "image/png": "[encoded data removed]",
      "text/plain": [
       "<Figure size 504x432 with 2 Axes>"
      ]
     },
     "metadata": {
      "needs_background": "light"
     },
     "output_type": "display_data"
    }
   ],
   "source": [
    "#Is there any correlation between the number of views, likes, dislikes, and comments? What is their correlation?\n",
    "\n",
    "corr_ft = my_df[['views', 'likes', 'dislikes', 'comment_count']]\n",
    "corr = corr_ft.corr()\n",
    "display(corr)\n",
    "plt.figure(figsize = (7,6))\n",
    "sns.heatmap(corr, annot = True)\n",
    "\n"
   ]
  },
  {
   "cell_type": "code",
   "execution_count": null,
   "metadata": {},
   "outputs": [],
   "source": []
  }
 ],
 "metadata": {
  "kernelspec": {
   "display_name": "Python 3",
   "language": "python",
   "name": "python3"
  },
  "language_info": {
   "codemirror_mode": {
    "name": "ipython",
    "version": 3
   },
   "file_extension": ".py",
   "mimetype": "text/x-python",
   "name": "python",
   "nbconvert_exporter": "python",
   "pygments_lexer": "ipython3",
   "version": "3.8.5"
  }
 },
 "nbformat": 4,
 "nbformat_minor": 4
}
