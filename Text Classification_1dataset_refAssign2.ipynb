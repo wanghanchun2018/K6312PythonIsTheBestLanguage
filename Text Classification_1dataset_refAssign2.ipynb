{
 "cells": [
  {
   "cell_type": "markdown",
   "metadata": {
    "id": "QAKYZFF3HYFe"
   },
   "source": [
    "# Text Classification"
   ]
  },
  {
   "cell_type": "markdown",
   "metadata": {
    "id": "sn29J0dSHYG-"
   },
   "source": [
    "### 导入training, test集，分别加label, 定义x,y\n"
   ]
  },
  {
   "cell_type": "code",
   "execution_count": 115,
   "metadata": {
    "colab": {
     "base_uri": "https://localhost:8080/",
     "height": 204
    },
    "executionInfo": {
     "elapsed": 837,
     "status": "ok",
     "timestamp": 1601108597566,
     "user": {
      "displayName": "rui zhao",
      "photoUrl": "https://lh3.googleusercontent.com/a-/AOh14GhmCiWl9LCopoyVYtscKhRzE0L8Y0JRDSZ6bsjFHA=s64",
      "userId": "07976630900806258773"
     },
     "user_tz": -480
    },
    "id": "PE5GiW2_HYF1",
    "outputId": "0f0c77ea-cb39-4ebc-ea67-622e7bc1b9ab"
   },
   "outputs": [],
   "source": [
    "#导库，读入数据集\n",
    "# import and instantiate CountVectorizer (with the default parameters)\n",
    "from sklearn.feature_extraction.text import CountVectorizer\n",
    "\n",
    "import pandas as pd\n",
    "import numpy as np\n",
    "import json\n",
    "%matplotlib inline\n",
    "import matplotlib.pyplot as plt  \n",
    "import matplotlib as mpl\n",
    "import seaborn as sns  \n",
    "import random\n",
    "data = pd.read_csv('FinalData.csv')"
   ]
  },
  {
   "cell_type": "code",
   "execution_count": 116,
   "metadata": {},
   "outputs": [
    {
     "name": "stderr",
     "output_type": "stream",
     "text": [
      "<ipython-input-116-6074cace282b>:14: SettingWithCopyWarning: \n",
      "A value is trying to be set on a copy of a slice from a DataFrame\n",
      "\n",
      "See the caveats in the documentation: https://pandas.pydata.org/pandas-docs/stable/user_guide/indexing.html#returning-a-view-versus-a-copy\n",
      "  data.label[i] = labels[i]\n"
     ]
    }
   ],
   "source": [
    "#加label列后变成df_data\n",
    "#data = data.head(5000)#后面再改\n",
    "labels = []\n",
    "for i in range(len(data)):\n",
    "    if data.dislikes[i] == 0:\n",
    "        labels.append(2)\n",
    "    elif (data.likes[i] - data.dislikes[i]) / data.dislikes[i] > 6:\n",
    "        labels.append(1)\n",
    "    else:\n",
    "        labels.append(0)\n",
    "    \n",
    "data['label'] = 0\n",
    "for i in range(len(data)):\n",
    "    data.label[i] = labels[i]\n",
    "data\n",
    "\n",
    "df_data = data[~data['label'].isin([2])]"
   ]
  },
  {
   "cell_type": "code",
   "execution_count": 117,
   "metadata": {},
   "outputs": [
    {
     "name": "stderr",
     "output_type": "stream",
     "text": [
      "<ipython-input-117-5fe2ea8b4730>:3: SettingWithCopyWarning: \n",
      "A value is trying to be set on a copy of a slice from a DataFrame\n",
      "\n",
      "See the caveats in the documentation: https://pandas.pydata.org/pandas-docs/stable/user_guide/indexing.html#returning-a-view-versus-a-copy\n",
      "  df.dropna(axis=0, how='any',inplace=True)\n"
     ]
    }
   ],
   "source": [
    "#定义x， y\n",
    "df = df_data[['description','label']]\n",
    "df.dropna(axis=0, how='any',inplace=True)\n",
    "df_X = df[['description']]\n",
    "df_y = df[['label']]"
   ]
  },
  {
   "cell_type": "code",
   "execution_count": 118,
   "metadata": {},
   "outputs": [
    {
     "data": {
      "text/html": [
       "<div>\n",
       "<style scoped>\n",
       "    .dataframe tbody tr th:only-of-type {\n",
       "        vertical-align: middle;\n",
       "    }\n",
       "\n",
       "    .dataframe tbody tr th {\n",
       "        vertical-align: top;\n",
       "    }\n",
       "\n",
       "    .dataframe thead th {\n",
       "        text-align: right;\n",
       "    }\n",
       "</style>\n",
       "<table border=\"1\" class=\"dataframe\">\n",
       "  <thead>\n",
       "    <tr style=\"text-align: right;\">\n",
       "      <th></th>\n",
       "      <th>description</th>\n",
       "    </tr>\n",
       "  </thead>\n",
       "  <tbody>\n",
       "    <tr>\n",
       "      <th>0</th>\n",
       "      <td>Eminem's new track Walk on Water ft. Beyoncé i...</td>\n",
       "    </tr>\n",
       "    <tr>\n",
       "      <th>1</th>\n",
       "      <td>STill got a lot of packages. Probably will las...</td>\n",
       "    </tr>\n",
       "    <tr>\n",
       "      <th>2</th>\n",
       "      <td>WATCH MY PREVIOUS VIDEO ▶ \\n\\nSUBSCRIBE ► http...</td>\n",
       "    </tr>\n",
       "    <tr>\n",
       "      <th>3</th>\n",
       "      <td>I know it's been a while since we did this sho...</td>\n",
       "    </tr>\n",
       "    <tr>\n",
       "      <th>4</th>\n",
       "      <td>🎧: https://ad.gt/yt-perfect\\n💰: https://atlant...</td>\n",
       "    </tr>\n",
       "    <tr>\n",
       "      <th>...</th>\n",
       "      <td>...</td>\n",
       "    </tr>\n",
       "    <tr>\n",
       "      <th>158092</th>\n",
       "      <td>BTS with the PPS, the puppies. These adorable ...</td>\n",
       "    </tr>\n",
       "    <tr>\n",
       "      <th>158093</th>\n",
       "      <td>The Cat Who Caught the Laser - Aaron's Animals</td>\n",
       "    </tr>\n",
       "    <tr>\n",
       "      <th>158095</th>\n",
       "      <td>I had so much fun transforming Safiyas hair in...</td>\n",
       "    </tr>\n",
       "    <tr>\n",
       "      <th>158096</th>\n",
       "      <td>How Black Panther Should Have EndedWatch More ...</td>\n",
       "    </tr>\n",
       "    <tr>\n",
       "      <th>158097</th>\n",
       "      <td>Call of Duty: Black Ops 4 Multiplayer raises t...</td>\n",
       "    </tr>\n",
       "  </tbody>\n",
       "</table>\n",
       "<p>153189 rows × 1 columns</p>\n",
       "</div>"
      ],
      "text/plain": [
       "                                              description\n",
       "0       Eminem's new track Walk on Water ft. Beyoncé i...\n",
       "1       STill got a lot of packages. Probably will las...\n",
       "2       WATCH MY PREVIOUS VIDEO ▶ \\n\\nSUBSCRIBE ► http...\n",
       "3       I know it's been a while since we did this sho...\n",
       "4       🎧: https://ad.gt/yt-perfect\\n💰: https://atlant...\n",
       "...                                                   ...\n",
       "158092  BTS with the PPS, the puppies. These adorable ...\n",
       "158093     The Cat Who Caught the Laser - Aaron's Animals\n",
       "158095  I had so much fun transforming Safiyas hair in...\n",
       "158096  How Black Panther Should Have EndedWatch More ...\n",
       "158097  Call of Duty: Black Ops 4 Multiplayer raises t...\n",
       "\n",
       "[153189 rows x 1 columns]"
      ]
     },
     "execution_count": 118,
     "metadata": {},
     "output_type": "execute_result"
    }
   ],
   "source": [
    "df_X"
   ]
  },
  {
   "cell_type": "code",
   "execution_count": 119,
   "metadata": {},
   "outputs": [],
   "source": [
    "from sklearn.model_selection import train_test_split"
   ]
  },
  {
   "cell_type": "code",
   "execution_count": 120,
   "metadata": {},
   "outputs": [],
   "source": [
    "X_train, X_test, y_train, y_test= train_test_split(df_X, df_y, \n",
    "                                                    test_size = 0.25,\n",
    "                                                    random_state=123)"
   ]
  },
  {
   "cell_type": "code",
   "execution_count": 121,
   "metadata": {},
   "outputs": [
    {
     "data": {
      "text/plain": [
       "12241     1/13/18 Boston vs Montreal with 1:37 remaining...\n",
       "51597     Here's a small teaser trailer for a project I'...\n",
       "75206     The full first Bohemian Rhapsody trailer launc...\n",
       "20587     Walks into job interview, becomes a completely...\n",
       "131876    Every Tuesday, Indo Java in Queens, New York, ...\n",
       "                                ...                        \n",
       "151277    “Come Through and Chill” ft. J. Cole out now! ...\n",
       "124116    I was 100% sure that I would use BBM forever! ...\n",
       "18518     Here comes the super helpful compilation of ha...\n",
       "29271     Check out our Patreon page: https://www.patreo...\n",
       "16425     First Take's Stephen A. Smith calls benching M...\n",
       "Name: description, Length: 114891, dtype: object"
      ]
     },
     "execution_count": 121,
     "metadata": {},
     "output_type": "execute_result"
    }
   ],
   "source": [
    "X_train = X_train.description\n",
    "X_test = X_test.description\n",
    "y_train = y_train.label\n",
    "y_test = y_test.label\n",
    "X_train"
   ]
  },
  {
   "cell_type": "markdown",
   "metadata": {
    "id": "sn29J0dSHYG-"
   },
   "source": [
    "### Vectorizing the IMDB data using Bag-of-Words method"
   ]
  },
  {
   "cell_type": "code",
   "execution_count": 122,
   "metadata": {
    "executionInfo": {
     "elapsed": 800,
     "status": "ok",
     "timestamp": 1601109231123,
     "user": {
      "displayName": "rui zhao",
      "photoUrl": "https://lh3.googleusercontent.com/a-/AOh14GhmCiWl9LCopoyVYtscKhRzE0L8Y0JRDSZ6bsjFHA=s64",
      "userId": "07976630900806258773"
     },
     "user_tz": -480
    },
    "id": "tdKk7416HYG_"
   },
   "outputs": [],
   "source": [
    "# instantiate the vectorizer. We set the vocab size to 10000\n",
    "#feature后面有reset\n",
    "num_features = 10000\n",
    "vect = CountVectorizer(max_features=num_features)"
   ]
  },
  {
   "cell_type": "code",
   "execution_count": 123,
   "metadata": {
    "executionInfo": {
     "elapsed": 858,
     "status": "ok",
     "timestamp": 1601109240130,
     "user": {
      "displayName": "rui zhao",
      "photoUrl": "https://lh3.googleusercontent.com/a-/AOh14GhmCiWl9LCopoyVYtscKhRzE0L8Y0JRDSZ6bsjFHA=s64",
      "userId": "07976630900806258773"
     },
     "user_tz": -480
    },
    "id": "fOcXm4IhHYHC"
   },
   "outputs": [],
   "source": [
    "# fit on training data and transform to vector (document-term matrix)\n",
    "X_train_dtm = vect.fit_transform(X_train)"
   ]
  },
  {
   "cell_type": "code",
   "execution_count": 124,
   "metadata": {
    "colab": {
     "base_uri": "https://localhost:8080/",
     "height": 51
    },
    "executionInfo": {
     "elapsed": 833,
     "status": "ok",
     "timestamp": 1601109257285,
     "user": {
      "displayName": "rui zhao",
      "photoUrl": "https://lh3.googleusercontent.com/a-/AOh14GhmCiWl9LCopoyVYtscKhRzE0L8Y0JRDSZ6bsjFHA=s64",
      "userId": "07976630900806258773"
     },
     "user_tz": -480
    },
    "id": "KBBqzEZwHYHE",
    "outputId": "d3892ba2-4420-4da6-e86c-27e8f768ee05"
   },
   "outputs": [
    {
     "data": {
      "text/plain": [
       "<114891x10000 sparse matrix of type '<class 'numpy.int64'>'\n",
       "\twith 7962284 stored elements in Compressed Sparse Row format>"
      ]
     },
     "execution_count": 124,
     "metadata": {},
     "output_type": "execute_result"
    }
   ],
   "source": [
    "# examine the document-term matrix\n",
    "X_train_dtm"
   ]
  },
  {
   "cell_type": "code",
   "execution_count": 125,
   "metadata": {
    "colab": {
     "base_uri": "https://localhost:8080/",
     "height": 51
    },
    "executionInfo": {
     "elapsed": 869,
     "status": "ok",
     "timestamp": 1601109289485,
     "user": {
      "displayName": "rui zhao",
      "photoUrl": "https://lh3.googleusercontent.com/a-/AOh14GhmCiWl9LCopoyVYtscKhRzE0L8Y0JRDSZ6bsjFHA=s64",
      "userId": "07976630900806258773"
     },
     "user_tz": -480
    },
    "id": "3YyudMiUHYHF",
    "outputId": "feaeb912-3e5f-413e-be04-bf994533b976",
    "scrolled": true
   },
   "outputs": [
    {
     "data": {
      "text/plain": [
       "<38298x10000 sparse matrix of type '<class 'numpy.int64'>'\n",
       "\twith 2643470 stored elements in Compressed Sparse Row format>"
      ]
     },
     "execution_count": 125,
     "metadata": {},
     "output_type": "execute_result"
    }
   ],
   "source": [
    "# transform testing data (using fitted vocabulary) into a document-term matrix\n",
    "X_test_dtm = vect.transform(X_test)\n",
    "X_test_dtm"
   ]
  },
  {
   "cell_type": "code",
   "execution_count": 126,
   "metadata": {},
   "outputs": [],
   "source": [
    "X = X_train_dtm\n",
    "y = y_train"
   ]
  },
  {
   "cell_type": "markdown",
   "metadata": {
    "id": "clXu3pdoHYHo"
   },
   "source": [
    "##  logistic regression\n",
    "\n",
    "1. Train the model using X_train_dtm\n",
    "2. Test the model using X_test_dtm\n",
    "3. Report the testing accuracy"
   ]
  },
  {
   "cell_type": "code",
   "execution_count": 127,
   "metadata": {
    "executionInfo": {
     "elapsed": 966,
     "status": "ok",
     "timestamp": 1601109387586,
     "user": {
      "displayName": "rui zhao",
      "photoUrl": "https://lh3.googleusercontent.com/a-/AOh14GhmCiWl9LCopoyVYtscKhRzE0L8Y0JRDSZ6bsjFHA=s64",
      "userId": "07976630900806258773"
     },
     "user_tz": -480
    },
    "id": "fkU5JwJ8HYHq"
   },
   "outputs": [],
   "source": [
    "from sklearn.linear_model import LogisticRegression\n",
    "from sklearn import metrics\n",
    "# instantiate a logistic regression model\n",
    "logreg = LogisticRegression()"
   ]
  },
  {
   "cell_type": "markdown",
   "metadata": {},
   "source": [
    "test the model and report the testing accuarcy"
   ]
  },
  {
   "cell_type": "code",
   "execution_count": 128,
   "metadata": {},
   "outputs": [
    {
     "data": {
      "text/plain": [
       "(114891, 10000)"
      ]
     },
     "execution_count": 128,
     "metadata": {},
     "output_type": "execute_result"
    }
   ],
   "source": [
    "X.shape"
   ]
  },
  {
   "cell_type": "code",
   "execution_count": 129,
   "metadata": {},
   "outputs": [
    {
     "name": "stdout",
     "output_type": "stream",
     "text": [
      "accuracy: 0.9070708653193378\n"
     ]
    },
    {
     "name": "stderr",
     "output_type": "stream",
     "text": [
      "C:\\Users\\xiaxia_\\anaconda3\\lib\\site-packages\\sklearn\\linear_model\\_logistic.py:762: ConvergenceWarning: lbfgs failed to converge (status=1):\n",
      "STOP: TOTAL NO. of ITERATIONS REACHED LIMIT.\n",
      "\n",
      "Increase the number of iterations (max_iter) or scale the data as shown in:\n",
      "    https://scikit-learn.org/stable/modules/preprocessing.html\n",
      "Please also refer to the documentation for alternative solver options:\n",
      "    https://scikit-learn.org/stable/modules/linear_model.html#logistic-regression\n",
      "  n_iter_i = _check_optimize_result(\n"
     ]
    }
   ],
   "source": [
    "from sklearn.metrics import accuracy_score\n",
    "X = X_train_dtm\n",
    "y = y_train\n",
    "_=logreg.fit(X,y)\n",
    "\n",
    "y_test_pred=logreg.predict(X_test_dtm)\n",
    "\n",
    "print(\"accuracy:\",format(accuracy_score(y_test, y_test_pred)))"
   ]
  },
  {
   "cell_type": "markdown",
   "metadata": {},
   "source": [
    "## Linear SVM \n",
    "\n",
    "1. Train the model using X_train_dtm\n",
    "2. Test the model using X_test_dtm\n",
    "3. Report the testing accuracy"
   ]
  },
  {
   "cell_type": "code",
   "execution_count": 130,
   "metadata": {},
   "outputs": [],
   "source": [
    "from sklearn.svm import LinearSVC\n",
    "svm_linear = LinearSVC(dual=False)"
   ]
  },
  {
   "cell_type": "code",
   "execution_count": null,
   "metadata": {},
   "outputs": [],
   "source": [
    "#train the model\n",
    "svcLinear=LinearSVC().fit(X_train_dtm,y_train)"
   ]
  },
  {
   "cell_type": "code",
   "execution_count": null,
   "metadata": {},
   "outputs": [],
   "source": [
    "# test the model and report the testing accuarcy\n",
    "print(\"accuracy:\",svcLinear.score(X_test_dtm,y_test))"
   ]
  },
  {
   "cell_type": "markdown",
   "metadata": {},
   "source": [
    "## reset vocab size\n",
    "\n",
    "1. Change the number of features to 20000, i.e., a new vocabulary containing 2000 words.\n",
    "2. Convert the text data into vectors via the new vocabulary.\n",
    "3. Re-train Logistic regression (default settings as Task 2).\n",
    "4. Report the testing accuracy."
   ]
  },
  {
   "cell_type": "code",
   "execution_count": 113,
   "metadata": {},
   "outputs": [],
   "source": [
    "# write your code\n",
    "num_features=5000\n",
    "vect=CountVectorizer(max_features=num_features)\n",
    "X_train_dtm2=vect.fit_transform(X_train)\n",
    "X_test_dtm2=vect.transform(X_test)"
   ]
  },
  {
   "cell_type": "markdown",
   "metadata": {},
   "source": [
    "report testing accuarcy"
   ]
  },
  {
   "cell_type": "code",
   "execution_count": 114,
   "metadata": {},
   "outputs": [
    {
     "ename": "ValueError",
     "evalue": "X has 5000 features per sample; expecting 10000",
     "output_type": "error",
     "traceback": [
      "\u001b[1;31m---------------------------------------------------------------------------\u001b[0m",
      "\u001b[1;31mValueError\u001b[0m                                Traceback (most recent call last)",
      "\u001b[1;32m<ipython-input-114-0491197a1f1d>\u001b[0m in \u001b[0;36m<module>\u001b[1;34m\u001b[0m\n\u001b[0;32m      1\u001b[0m \u001b[1;32mfrom\u001b[0m \u001b[0msklearn\u001b[0m\u001b[1;33m.\u001b[0m\u001b[0mmetrics\u001b[0m \u001b[1;32mimport\u001b[0m \u001b[0maccuracy_score\u001b[0m\u001b[1;33m,\u001b[0m \u001b[0mprecision_score\u001b[0m\u001b[1;33m,\u001b[0m\u001b[0mrecall_score\u001b[0m\u001b[1;33m\u001b[0m\u001b[1;33m\u001b[0m\u001b[0m\n\u001b[1;32m----> 2\u001b[1;33m \u001b[0my_test_pred\u001b[0m\u001b[1;33m=\u001b[0m\u001b[0mlogreg\u001b[0m\u001b[1;33m.\u001b[0m\u001b[0mpredict\u001b[0m\u001b[1;33m(\u001b[0m\u001b[0mX_test_dtm2\u001b[0m\u001b[1;33m)\u001b[0m\u001b[1;33m\u001b[0m\u001b[1;33m\u001b[0m\u001b[0m\n\u001b[0m\u001b[0;32m      3\u001b[0m \u001b[0mprint\u001b[0m\u001b[1;33m(\u001b[0m\u001b[1;34m\"accuracy:\"\u001b[0m\u001b[1;33m,\u001b[0m\u001b[0mformat\u001b[0m\u001b[1;33m(\u001b[0m\u001b[0maccuracy_score\u001b[0m\u001b[1;33m(\u001b[0m\u001b[0my_test\u001b[0m\u001b[1;33m,\u001b[0m \u001b[0my_test_pred\u001b[0m\u001b[1;33m)\u001b[0m\u001b[1;33m)\u001b[0m\u001b[1;33m)\u001b[0m\u001b[1;33m\u001b[0m\u001b[1;33m\u001b[0m\u001b[0m\n",
      "\u001b[1;32m~\\anaconda3\\lib\\site-packages\\sklearn\\linear_model\\_base.py\u001b[0m in \u001b[0;36mpredict\u001b[1;34m(self, X)\u001b[0m\n\u001b[0;32m    305\u001b[0m             \u001b[0mPredicted\u001b[0m \u001b[1;32mclass\u001b[0m \u001b[0mlabel\u001b[0m \u001b[0mper\u001b[0m \u001b[0msample\u001b[0m\u001b[1;33m.\u001b[0m\u001b[1;33m\u001b[0m\u001b[1;33m\u001b[0m\u001b[0m\n\u001b[0;32m    306\u001b[0m         \"\"\"\n\u001b[1;32m--> 307\u001b[1;33m         \u001b[0mscores\u001b[0m \u001b[1;33m=\u001b[0m \u001b[0mself\u001b[0m\u001b[1;33m.\u001b[0m\u001b[0mdecision_function\u001b[0m\u001b[1;33m(\u001b[0m\u001b[0mX\u001b[0m\u001b[1;33m)\u001b[0m\u001b[1;33m\u001b[0m\u001b[1;33m\u001b[0m\u001b[0m\n\u001b[0m\u001b[0;32m    308\u001b[0m         \u001b[1;32mif\u001b[0m \u001b[0mlen\u001b[0m\u001b[1;33m(\u001b[0m\u001b[0mscores\u001b[0m\u001b[1;33m.\u001b[0m\u001b[0mshape\u001b[0m\u001b[1;33m)\u001b[0m \u001b[1;33m==\u001b[0m \u001b[1;36m1\u001b[0m\u001b[1;33m:\u001b[0m\u001b[1;33m\u001b[0m\u001b[1;33m\u001b[0m\u001b[0m\n\u001b[0;32m    309\u001b[0m             \u001b[0mindices\u001b[0m \u001b[1;33m=\u001b[0m \u001b[1;33m(\u001b[0m\u001b[0mscores\u001b[0m \u001b[1;33m>\u001b[0m \u001b[1;36m0\u001b[0m\u001b[1;33m)\u001b[0m\u001b[1;33m.\u001b[0m\u001b[0mastype\u001b[0m\u001b[1;33m(\u001b[0m\u001b[0mnp\u001b[0m\u001b[1;33m.\u001b[0m\u001b[0mint\u001b[0m\u001b[1;33m)\u001b[0m\u001b[1;33m\u001b[0m\u001b[1;33m\u001b[0m\u001b[0m\n",
      "\u001b[1;32m~\\anaconda3\\lib\\site-packages\\sklearn\\linear_model\\_base.py\u001b[0m in \u001b[0;36mdecision_function\u001b[1;34m(self, X)\u001b[0m\n\u001b[0;32m    284\u001b[0m         \u001b[0mn_features\u001b[0m \u001b[1;33m=\u001b[0m \u001b[0mself\u001b[0m\u001b[1;33m.\u001b[0m\u001b[0mcoef_\u001b[0m\u001b[1;33m.\u001b[0m\u001b[0mshape\u001b[0m\u001b[1;33m[\u001b[0m\u001b[1;36m1\u001b[0m\u001b[1;33m]\u001b[0m\u001b[1;33m\u001b[0m\u001b[1;33m\u001b[0m\u001b[0m\n\u001b[0;32m    285\u001b[0m         \u001b[1;32mif\u001b[0m \u001b[0mX\u001b[0m\u001b[1;33m.\u001b[0m\u001b[0mshape\u001b[0m\u001b[1;33m[\u001b[0m\u001b[1;36m1\u001b[0m\u001b[1;33m]\u001b[0m \u001b[1;33m!=\u001b[0m \u001b[0mn_features\u001b[0m\u001b[1;33m:\u001b[0m\u001b[1;33m\u001b[0m\u001b[1;33m\u001b[0m\u001b[0m\n\u001b[1;32m--> 286\u001b[1;33m             raise ValueError(\"X has %d features per sample; expecting %d\"\n\u001b[0m\u001b[0;32m    287\u001b[0m                              % (X.shape[1], n_features))\n\u001b[0;32m    288\u001b[0m \u001b[1;33m\u001b[0m\u001b[0m\n",
      "\u001b[1;31mValueError\u001b[0m: X has 5000 features per sample; expecting 10000"
     ]
    }
   ],
   "source": [
    "from sklearn.metrics import accuracy_score, precision_score,recall_score\n",
    "y_test_pred=logreg.predict(X_test_dtm2)\n",
    "print(\"accuracy:\",format(accuracy_score(y_test, y_test_pred)))"
   ]
  },
  {
   "cell_type": "code",
   "execution_count": null,
   "metadata": {},
   "outputs": [],
   "source": []
  },
  {
   "cell_type": "code",
   "execution_count": null,
   "metadata": {},
   "outputs": [],
   "source": []
  },
  {
   "cell_type": "code",
   "execution_count": null,
   "metadata": {},
   "outputs": [],
   "source": []
  }
 ],
 "metadata": {
  "colab": {
   "collapsed_sections": [
    "sn29J0dSHYG-",
    "clXu3pdoHYHo"
   ],
   "name": "07 Working with Text Data.ipynb",
   "provenance": []
  },
  "kernelspec": {
   "display_name": "Python 3",
   "language": "python",
   "name": "python3"
  },
  "language_info": {
   "codemirror_mode": {
    "name": "ipython",
    "version": 3
   },
   "file_extension": ".py",
   "mimetype": "text/x-python",
   "name": "python",
   "nbconvert_exporter": "python",
   "pygments_lexer": "ipython3",
   "version": "3.8.5"
  }
 },
 "nbformat": 4,
 "nbformat_minor": 4
}
